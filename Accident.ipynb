{
 "cells": [
  {
   "cell_type": "markdown",
   "metadata": {},
   "source": [
    "#Introduction\n",
    "This report is to demonstrate the ability to use and apply common big data tools techniques. The implementation of standard data analysis process as follows: Loading the data, Cleansing the data, Analysis, Visualisation / Reporting and use of Python, SQL and Linux terminal commands.\n",
    "\n",
    "The following datasets that are going to be used to carry out the task are: Accidents 2017, Casualties 2017 and Vehicles 2017.  The following techniques and tools are going to be applied:\n",
    "The ability to use Linus – Cloudera VM\n",
    "The Accidents 2017 and Casualties 2017 datasets are going to be dumbed into MYSQL then import into Hive \n",
    "The Vehicles 2017 dataset is going to be imported Vehicles table from CSV (on HDFS) into Hive\n",
    "Implementing a single script that executes the entire process of loading the supplied data to exporting the result data required for visualisation using Pyspark with Jupyter notebook.\n",
    "Implementing SQL analysis using Sqoop, Hive and Impala\n",
    "Installing and importing Pandas, Seaborn and Matplotlib for visualisation \n",
    "Using Python in Databricks to carry out SQL for visualisation.\n",
    "\n",
    "\n",
    "#What is Big Data\n",
    "According to Gartner’s definition “Big data is data that contains greater variety arriving in increasing volumes and with ever-higher velocity. This is known as the three Vs.” circa 2001 (https://www.oracle.com/uk/big-data/guide/what-is-big-data.html)\n",
    "Basically, big data is gigantic, has more complexity of data sets, particularly a newly data sources. These data sets are so large that outdated data processing software just cannot manage them. But these immense volumes of data can be used to address business problems we wouldn’t have been able to confront before.\n",
    "\n",
    "#Velocity\n",
    "Velocity is the rapid rate of receiving and (possibly) acting on data. Normally, data streams at the highest velocity directly into memory versus written to disk. Some smart products that are enabled on the Internet operate in real time or near real time and require evaluation and action in real time.\n",
    "\n",
    "#Volume\n",
    "The size of data matters. With large data, you will have to handle large quantities of low-density, unstructured data. This can be an unknown value data, such as Twitter data feeds, webpage or mobile phone apps, or sensor-enabled machinery. This may be dozens of terabytes of data for some organisations. It may be hundreds of petabytes for others.\n",
    "\n",
    "#Variety\n",
    "Variety relates to the many kinds of information accessible. In a relational database, traditional data types are structured and fit smoothly. With the rise of big data, data comes in new unstructured types of data. In order to derive meaning and support metadata, unstructured and semi-structured data types such as text, audio, and video require additional pre-processing.\n",
    "\n",
    "\n",
    "#Big Data and Data Analytics Benefits:\n",
    "Big data makes it possible for us for the improvement of further complete answers because we have more information.\n",
    "More full responses imply more confidence in the data—which implies a totally distinct strategy for tackling problems.\n",
    "\n",
    "#BIG DATA ANALYTICS\n",
    "<img src=\"bigdata.png\">\n",
    "#Capabilities of Big Data Analytics:\n",
    "Enterprise Data Warehousing,Business Intelligence, Predictive Analytics and Real-time Streaming Analytics\n",
    "\n",
    "\n",
    "#Big Data Challenges\n",
    "Challenges Facing big data, although big data holds plenty of promise, it does have its challenges.\n",
    "Primarily, big data is gigantic. though new technologies are developed for big data storage, data volumes are doubling in size regarding each 2 years. Organizations still struggle to stay pace with their data and discover ways in which to effectively store it. It is not enough to simply store the data. Data should be inclined to be valuable which depends on process of selection. \n",
    "\n",
    "Clean data, or data that are relevant to the consumer and agreed in a very approach that empowers a meaningful analysis which requires a lot of work. Data scientists spend more of their time curating and preparing data before it can be used.\n",
    "\n",
    "Lastly, big data technology is changing at a fast pace. Apache Hadoop has been the popular technology used to handle big data for the past few days before Apache Spark was introduced in 2014. Nowadays, a mixture of the two frameworks appears to be the best method. Keeping up with big data technology has always been an ongoing challenge.\n"
   ]
  },
  {
   "cell_type": "markdown",
   "metadata": {},
   "source": [
    "# Running Impala and Hive services"
   ]
  },
  {
   "cell_type": "code",
   "execution_count": 1,
   "metadata": {
    "scrolled": true
   },
   "outputs": [
    {
     "name": "stdout",
     "output_type": "stream",
     "text": [
      "\n",
      "Setting OOZIE_HOME:          /usr/lib/oozie\n",
      "Sourcing:                    /usr/lib/oozie/bin/oozie-env.sh\n",
      "  setting JAVA_LIBRARY_PATH=\"$JAVA_LIBRARY_PATH:/usr/lib/hadoop/lib/native\"\n",
      "  setting OOZIE_DATA=/var/lib/oozie\n",
      "  setting OOZIE_CATALINA_HOME=/usr/lib/bigtop-tomcat\n",
      "  setting CATALINA_TMPDIR=/var/lib/oozie\n",
      "  setting CATALINA_PID=/var/run/oozie/oozie.pid\n",
      "  setting CATALINA_BASE=/var/lib/oozie/tomcat-deployment\n",
      "  setting OOZIE_HTTPS_PORT=11443\n",
      "  setting OOZIE_HTTPS_KEYSTORE_PASS=password\n",
      "  setting CATALINA_OPTS=\"$CATALINA_OPTS -Doozie.https.port=${OOZIE_HTTPS_PORT}\"\n",
      "  setting CATALINA_OPTS=\"$CATALINA_OPTS -Doozie.https.keystore.pass=${OOZIE_HTTPS_KEYSTORE_PASS}\"\n",
      "  setting CATALINA_OPTS=\"$CATALINA_OPTS -Xmx128m\"\n",
      "  setting OOZIE_CONFIG=/etc/oozie/conf\n",
      "  setting OOZIE_LOG=/var/log/oozie\n",
      "Using   OOZIE_CONFIG:        /etc/oozie/conf\n",
      "Sourcing:                    /etc/oozie/conf/oozie-env.sh\n",
      "  setting JAVA_LIBRARY_PATH=\"$JAVA_LIBRARY_PATH:/usr/lib/hadoop/lib/native\"\n",
      "  setting OOZIE_DATA=/var/lib/oozie\n",
      "  setting OOZIE_CATALINA_HOME=/usr/lib/bigtop-tomcat\n",
      "  setting CATALINA_TMPDIR=/var/lib/oozie\n",
      "  setting CATALINA_PID=/var/run/oozie/oozie.pid\n",
      "  setting CATALINA_BASE=/var/lib/oozie/tomcat-deployment\n",
      "  setting OOZIE_HTTPS_PORT=11443\n",
      "  setting OOZIE_HTTPS_KEYSTORE_PASS=password\n",
      "  setting CATALINA_OPTS=\"$CATALINA_OPTS -Doozie.https.port=${OOZIE_HTTPS_PORT}\"\n",
      "  setting CATALINA_OPTS=\"$CATALINA_OPTS -Doozie.https.keystore.pass=${OOZIE_HTTPS_KEYSTORE_PASS}\"\n",
      "  setting CATALINA_OPTS=\"$CATALINA_OPTS -Xmx128m\"\n",
      "  setting OOZIE_CONFIG=/etc/oozie/conf\n",
      "  setting OOZIE_LOG=/var/log/oozie\n",
      "Setting OOZIE_CONFIG_FILE:   oozie-site.xml\n",
      "Using   OOZIE_DATA:          /var/lib/oozie\n",
      "Using   OOZIE_LOG:           /var/log/oozie\n",
      "Setting OOZIE_LOG4J_FILE:    oozie-log4j.properties\n",
      "Setting OOZIE_LOG4J_RELOAD:  10\n",
      "Setting OOZIE_HTTP_HOSTNAME: localhost\n",
      "Setting OOZIE_HTTP_PORT:     11000\n",
      "Setting OOZIE_ADMIN_PORT:     11001\n",
      "Using   OOZIE_HTTPS_PORT:     11443\n",
      "Setting OOZIE_BASE_URL:      http://localhost:11000/oozie\n",
      "Using   CATALINA_BASE:       /var/lib/oozie/tomcat-deployment\n",
      "Setting OOZIE_HTTPS_KEYSTORE_FILE:     /var/lib/oozie/.keystore\n",
      "Using   OOZIE_HTTPS_KEYSTORE_PASS:     password\n",
      "Setting OOZIE_INSTANCE_ID:       localhost\n",
      "Setting CATALINA_OUT:        /var/log/oozie/catalina.out\n",
      "Using   CATALINA_PID:        /var/run/oozie/oozie.pid\n",
      "\n",
      "Using   CATALINA_OPTS:        -Doozie.https.port=11443 -Doozie.https.keystore.pass=password -Xmx128m -Doozie.https.port=11443 -Doozie.https.keystore.pass=password -Xmx128m -Dderby.stream.error.file=/var/log/oozie/derby.log\n",
      "Adding to CATALINA_OPTS:     -Doozie.home.dir=/usr/lib/oozie -Doozie.config.dir=/etc/oozie/conf -Doozie.log.dir=/var/log/oozie -Doozie.data.dir=/var/lib/oozie -Doozie.instance.id=localhost -Doozie.config.file=oozie-site.xml -Doozie.log4j.file=oozie-log4j.properties -Doozie.log4j.reload=10 -Doozie.http.hostname=localhost -Doozie.admin.port=11001 -Doozie.http.port=11000 -Doozie.https.port=11443 -Doozie.base.url=http://localhost:11000/oozie -Doozie.https.keystore.file=/var/lib/oozie/.keystore -Doozie.https.keystore.pass=password -Djava.library.path=:/usr/lib/hadoop/lib/native:/usr/lib/hadoop/lib/native\n",
      "\n",
      "Using CATALINA_BASE:   /var/lib/oozie/tomcat-deployment\n",
      "Using CATALINA_HOME:   /usr/lib/bigtop-tomcat\n",
      "Using CATALINA_TMPDIR: /var/lib/oozie\n",
      "Using JRE_HOME:        /usr/java/jdk1.7.0_67\n",
      "Using CLASSPATH:       /usr/lib/bigtop-tomcat/bin/bootstrap.jar\n",
      "Using CATALINA_PID:    /var/run/oozie/oozie.pid\n",
      "Stopping Hive Metastore (hive-metastore):\u001b[60G[\u001b[0;32m  OK  \u001b[0;39m]\n",
      "Starting Hive Metastore (hive-metastore):\u001b[60G[\u001b[0;32m  OK  \u001b[0;39m]\n",
      "Stopped Hive Server2:\u001b[60G[\u001b[0;32m  OK  \u001b[0;39m]\n",
      "Started Hive Server2 (hive-server2):\u001b[60G[\u001b[0;32m  OK  \u001b[0;39m]\n",
      "Usage: /etc/init.d/impala-state-store {start|stop|status|restart|try-restart|condrestart}\n",
      "Stopped Impala Catalog Server:\u001b[60G[\u001b[0;32m  OK  \u001b[0;39m]\n",
      "Started Impala Catalog Server (catalogd) :\u001b[60G[\u001b[0;32m  OK  \u001b[0;39m]\n",
      "Stopped Impala Server:\u001b[60G[\u001b[0;32m  OK  \u001b[0;39m]\n",
      "Started Impala Server (impalad):\u001b[60G[\u001b[0;32m  OK  \u001b[0;39m]\n"
     ]
    }
   ],
   "source": [
    "!sudo service oozie restart\n",
    "!sudo service hive-metastore restart\n",
    "!sudo service hive-server2 restart\n",
    "!sudo service impala-state-store resstart\n",
    "!sudo service impala-catalog restart\n",
    "!sudo service impala-server restart"
   ]
  },
  {
   "cell_type": "markdown",
   "metadata": {},
   "source": [
    "# Load the db_bdtt_ac data into created ihayford database "
   ]
  },
  {
   "cell_type": "code",
   "execution_count": 3,
   "metadata": {
    "scrolled": true
   },
   "outputs": [
    {
     "name": "stdout",
     "output_type": "stream",
     "text": [
      "Tables_in_ihayfordbdtt\n",
      "accidents\n",
      "casualties\n"
     ]
    }
   ],
   "source": [
    "%%bash\n",
    "    mysql -utraining -ptraining\n",
    "    create database ihayfordbdtt;\n",
    "\n",
    "    use ihayfordbdtt;\n",
    "     \\. db_bdtt_ac\n",
    "\n",
    "    use ihayfordbdtt;\n",
    "    show tables;"
   ]
  },
  {
   "cell_type": "markdown",
   "metadata": {},
   "source": [
    "###Preparing and modifying mysql attributes  Data Types\n",
    "Using the ALTER statement to modify the the data types from INT to STRING"
   ]
  },
  {
   "cell_type": "code",
   "execution_count": 4,
   "metadata": {},
   "outputs": [],
   "source": [
    "%%bash\n",
    "    mysql -utraining -ptraining\n",
    "    use ihayfordbdtt;\n",
    "    \n",
    "    ALTER TABLE accidents MODIFY COLUMN police_force varchar(50);\n",
    "    ALTER TABLE accidents MODIFY COLUMN accident_severity varchar(50);\n",
    "    ALTER TABLE accidents MODIFY COLUMN day_of_week varchar(50);\n",
    "    ALTER TABLE accidents MODIFY COLUMN Road_Type varchar(50);\n",
    "    ALTER TABLE accidents MODIFY COLUMN Local_Authority_District varchar(50);\n",
    "    \n",
    "    ALTER TABLE casualties MODIFY COLUMN casualty_severity varchar(50);\n",
    "    ALTER TABLE casualties MODIFY COLUMN Age_Band_of_Casualty varchar(50);\n",
    "    \n",
    "    "
   ]
  },
  {
   "cell_type": "markdown",
   "metadata": {},
   "source": [
    "### Preparing and cleaning tables by updating Rows refrencing from the Road-Accident-Safety-Data-Guide.xls\n",
    "Using Mysql UPDATE, SET statement to replace values in rows in other get approperate rows names\""
   ]
  },
  {
   "cell_type": "code",
   "execution_count": 5,
   "metadata": {},
   "outputs": [],
   "source": [
    "%%bash\n",
    "    mysql -utraining -ptraining\n",
    "    use ihayfordbdtt;\n",
    "\n",
    "    UPDATE accidents SET Police_Force = \"Kent\" WHERE Police_Force = 46;\n",
    "    UPDATE accidents SET Police_Force = \"Thames Valley\" WHERE Police_Force = 43;\n",
    "    UPDATE accidents SET Police_Force = \"Devon and Cornwall\" WHERE Police_Force = 50;\n",
    "    UPDATE accidents SET Police_Force = \"West Midlands\" WHERE Police_Force = 20;\n",
    "    UPDATE accidents SET Police_Force = \"West Yorkshire\" WHERE Police_Force = 13;\n",
    "    UPDATE accidents SET Police_Force = \"Metropolitan Police\" WHERE Police_Force = 1;\n",
    "\n",
    "    UPDATE accidents SET day_of_week = \"Sunday\" WHERE day_of_week = 1;\n",
    "    UPDATE accidents SET day_of_week = \"Monday\" WHERE day_of_week = 2;\n",
    "    UPDATE accidents SET day_of_week = \"Tuesday\" WHERE day_of_week = 3;\n",
    "    UPDATE accidents SET day_of_week = \"Wednesday\" WHERE day_of_week = 4;\n",
    "    UPDATE accidents SET day_of_week = \"Thursday\" WHERE day_of_week = 5;\n",
    "    UPDATE accidents SET day_of_week = \"Friday\" WHERE day_of_week = 6;\n",
    "    UPDATE accidents SET day_of_week = \"Saturday\" WHERE day_of_week = 7;\n",
    "    \n",
    "    UPDATE accidents SET Road_Type = \"One way street/Slip road\" WHERE Road_Type = 12;\n",
    "    UPDATE accidents SET Road_Type = \"Unknown\" WHERE Road_Type = 9;\n",
    "    UPDATE accidents SET Road_Type = \"Slip road\" WHERE Road_Type = 7;\n",
    "    UPDATE accidents SET Road_Type = \"Single carriageway\" WHERE Road_Type = 6;\n",
    "    UPDATE accidents SET Road_Type = \"Dual carriageway\" WHERE Road_Type = 3;\n",
    "    UPDATE accidents SET Road_Type = \"One way street\" WHERE Road_Type = 2;\n",
    "    UPDATE accidents SET Road_Type = \"Data missing or out of range\" WHERE Road_Type = -1;\n",
    "    UPDATE accidents SET Road_Type = \"Roundabout\" WHERE Road_Type = 1;\n",
    "\n",
    "\n",
    "    UPDATE accidents SET accident_severity = \"Fatal\" WHERE accident_severity = 1;\n",
    "    UPDATE accidents SET accident_severity = \"Serious\" WHERE accident_severity = 2;\n",
    "    UPDATE accidents SET accident_severity = \"Slight\" WHERE accident_severity = 3;\n",
    "\n",
    "    \n",
    "    UPDATE accidents SET Local_Authority_District = \"West Lindsey\" WHERE Local_Authority_District = 356;\n",
    "    UPDATE accidents SET Local_Authority_District = \"Aylesbury Vale\" WHERE Local_Authority_District = 476;\n",
    "    UPDATE accidents SET Local_Authority_District = \"Cheshire West and Chester\" WHERE Local_Authority_District = 130;\n",
    "    UPDATE accidents SET Local_Authority_District = \"Shropshire\" WHERE Local_Authority_District = 286;\n",
    "    UPDATE accidents SET Local_Authority_District = \"Birmingham\" WHERE Local_Authority_District = 300;\n",
    "    UPDATE accidents SET Local_Authority_District = \"Leeds\" WHERE Local_Authority_District = 204;\n",
    "    UPDATE accidents SET Local_Authority_District = \"Sheffield\" WHERE Local_Authority_District = 215;\n",
    "    UPDATE accidents SET Local_Authority_District = \"Cornwall\" WHERE Local_Authority_District = 596;\n",
    "    UPDATE accidents SET Local_Authority_District = \"Mansfield\" WHERE Local_Authority_District = 344;\n",
    "    UPDATE accidents SET Local_Authority_District = \"Wakefield\" WHERE Local_Authority_District = 206;\n",
    "    UPDATE accidents SET Local_Authority_District = \"Nottingham\" WHERE Local_Authority_District = 346;\n",
    "    UPDATE accidents SET Local_Authority_District = \"Daventry\" WHERE Local_Authority_District = 381;\n",
    "    UPDATE accidents SET Local_Authority_District = \"Conwy\" WHERE Local_Authority_District = 721;\n",
    "    UPDATE accidents SET Local_Authority_District = \"Powys\" WHERE Local_Authority_District = 753;\n",
    "    UPDATE accidents SET Local_Authority_District = \"Highland\" WHERE Local_Authority_District = 927;\n",
    "    UPDATE accidents SET Local_Authority_District = \"Westminster\" WHERE Local_Authority_District = 1;\n",
    "    \n",
    "    \n",
    "    UPDATE casualties SET casualty_severity = \"Fatal\" WHERE casualty_severity = 1;\n",
    "    UPDATE casualties SET casualty_severity = \"Serious\" WHERE casualty_severity = 2;\n",
    "    UPDATE casualties SET casualty_severity = \"Slight\" WHERE casualty_severity = 3;\n",
    "    \n",
    "    UPDATE casualties SET age_band_of_casualty = \"66 - 75\" WHERE age_band_of_casualty = 10;\n",
    "    UPDATE casualties SET Age_Band_of_Casualty = \"21 - 25\" WHERE Age_Band_of_Casualty = 5;\n",
    "    UPDATE casualties SET Age_Band_of_Casualty = \"26 - 35\" WHERE Age_Band_of_Casualty = 6;\n",
    "    UPDATE casualties SET Age_Band_of_Casualty = \"36 - 45\" WHERE Age_Band_of_Casualty = 7;\n",
    "    UPDATE casualties SET Age_Band_of_Casualty = \"46 - 55\" WHERE Age_Band_of_Casualty = 8;"
   ]
  },
  {
   "cell_type": "markdown",
   "metadata": {},
   "source": [
    "# Import Vehicles CSV table  to HDFS\n",
    "Creating new directory called vehicles in HDFS  and and imported the vihicles csv file into it"
   ]
  },
  {
   "cell_type": "code",
   "execution_count": 6,
   "metadata": {
    "scrolled": true
   },
   "outputs": [],
   "source": [
    "!hdfs dfs -mkdir /user/hdfs/vehicles \n",
    "!hdfs dfs -put Veh1.csv /user/hdfs/vehicles"
   ]
  },
  {
   "cell_type": "markdown",
   "metadata": {},
   "source": [
    "# Import Accidents table from MYSQL to HDFS using Sqoop\n",
    "Using Sqoop to import the Accidents table from Mysql and specifying the drictory to be imported into which is the user/hdfs "
   ]
  },
  {
   "cell_type": "code",
   "execution_count": 7,
   "metadata": {
    "scrolled": true
   },
   "outputs": [
    {
     "name": "stdout",
     "output_type": "stream",
     "text": [
      "19/05/10 06:50:55 INFO sqoop.Sqoop: Running Sqoop version: 1.4.5-cdh5.4.3\n",
      "19/05/10 06:50:55 WARN tool.BaseSqoopTool: Setting your password on the command-line is insecure. Consider using -P instead.\n",
      "19/05/10 06:50:55 INFO manager.MySQLManager: Preparing to use a MySQL streaming resultset.\n",
      "19/05/10 06:50:55 INFO tool.CodeGenTool: Beginning code generation\n",
      "19/05/10 06:50:55 INFO manager.SqlManager: Executing SQL statement: SELECT t.* FROM `accidents` AS t LIMIT 1\n",
      "19/05/10 06:50:55 INFO manager.SqlManager: Executing SQL statement: SELECT t.* FROM `accidents` AS t LIMIT 1\n",
      "19/05/10 06:50:55 INFO orm.CompilationManager: HADOOP_MAPRED_HOME is /usr/lib/hadoop-mapreduce\n",
      "Note: /tmp/sqoop-training/compile/dfc1374a69ef46702cf0d529885801ff/accidents.java uses or overrides a deprecated API.\n",
      "Note: Recompile with -Xlint:deprecation for details.\n",
      "19/05/10 06:50:57 INFO orm.CompilationManager: Writing jar file: /tmp/sqoop-training/compile/dfc1374a69ef46702cf0d529885801ff/accidents.jar\n",
      "19/05/10 06:50:57 WARN manager.MySQLManager: It looks like you are importing from mysql.\n",
      "19/05/10 06:50:57 WARN manager.MySQLManager: This transfer can be faster! Use the --direct\n",
      "19/05/10 06:50:57 WARN manager.MySQLManager: option to exercise a MySQL-specific fast path.\n",
      "19/05/10 06:50:57 INFO manager.MySQLManager: Setting zero DATETIME behavior to convertToNull (mysql)\n",
      "19/05/10 06:50:57 INFO mapreduce.ImportJobBase: Beginning import of accidents\n",
      "19/05/10 06:50:57 INFO Configuration.deprecation: mapred.job.tracker is deprecated. Instead, use mapreduce.jobtracker.address\n",
      "19/05/10 06:50:57 INFO Configuration.deprecation: mapred.jar is deprecated. Instead, use mapreduce.job.jar\n",
      "19/05/10 06:50:58 INFO Configuration.deprecation: mapred.map.tasks is deprecated. Instead, use mapreduce.job.maps\n",
      "19/05/10 06:50:58 INFO client.RMProxy: Connecting to ResourceManager at /0.0.0.0:8032\n",
      "19/05/10 06:50:59 INFO db.DBInputFormat: Using read commited transaction isolation\n",
      "19/05/10 06:50:59 INFO mapreduce.JobSubmitter: number of splits:1\n",
      "19/05/10 06:50:59 INFO mapreduce.JobSubmitter: Submitting tokens for job: job_1557495977674_0001\n",
      "19/05/10 06:51:00 INFO impl.YarnClientImpl: Submitted application application_1557495977674_0001\n",
      "19/05/10 06:51:00 INFO mapreduce.Job: The url to track the job: http://localhost:8088/proxy/application_1557495977674_0001/\n",
      "19/05/10 06:51:00 INFO mapreduce.Job: Running job: job_1557495977674_0001\n",
      "19/05/10 06:51:07 INFO mapreduce.Job: Job job_1557495977674_0001 running in uber mode : false\n",
      "19/05/10 06:51:07 INFO mapreduce.Job:  map 0% reduce 0%\n",
      "19/05/10 06:51:13 INFO mapreduce.Job:  map 100% reduce 0%\n",
      "19/05/10 06:51:13 INFO mapreduce.Job: Job job_1557495977674_0001 completed successfully\n",
      "19/05/10 06:51:13 INFO mapreduce.Job: Counters: 30\n",
      "\tFile System Counters\n",
      "\t\tFILE: Number of bytes read=0\n",
      "\t\tFILE: Number of bytes written=136546\n",
      "\t\tFILE: Number of read operations=0\n",
      "\t\tFILE: Number of large read operations=0\n",
      "\t\tFILE: Number of write operations=0\n",
      "\t\tHDFS: Number of bytes read=87\n",
      "\t\tHDFS: Number of bytes written=23323094\n",
      "\t\tHDFS: Number of read operations=4\n",
      "\t\tHDFS: Number of large read operations=0\n",
      "\t\tHDFS: Number of write operations=2\n",
      "\tJob Counters \n",
      "\t\tLaunched map tasks=1\n",
      "\t\tOther local map tasks=1\n",
      "\t\tTotal time spent by all maps in occupied slots (ms)=0\n",
      "\t\tTotal time spent by all reduces in occupied slots (ms)=0\n",
      "\t\tTotal time spent by all map tasks (ms)=3960\n",
      "\t\tTotal vcore-seconds taken by all map tasks=3960\n",
      "\t\tTotal megabyte-seconds taken by all map tasks=1013760\n",
      "\tMap-Reduce Framework\n",
      "\t\tMap input records=129982\n",
      "\t\tMap output records=129982\n",
      "\t\tInput split bytes=87\n",
      "\t\tSpilled Records=0\n",
      "\t\tFailed Shuffles=0\n",
      "\t\tMerged Map outputs=0\n",
      "\t\tGC time elapsed (ms)=183\n",
      "\t\tCPU time spent (ms)=3650\n",
      "\t\tPhysical memory (bytes) snapshot=183898112\n",
      "\t\tVirtual memory (bytes) snapshot=894574592\n",
      "\t\tTotal committed heap usage (bytes)=175636480\n",
      "\tFile Input Format Counters \n",
      "\t\tBytes Read=0\n",
      "\tFile Output Format Counters \n",
      "\t\tBytes Written=23323094\n",
      "19/05/10 06:51:13 INFO mapreduce.ImportJobBase: Transferred 22.2426 MB in 15.1338 seconds (1.4697 MB/sec)\n",
      "19/05/10 06:51:13 INFO mapreduce.ImportJobBase: Retrieved 129982 records.\n"
     ]
    }
   ],
   "source": [
    "!sqoop-import \\\n",
    "    --connect jdbc:mysql://localhost/ihayfordbdtt\\\n",
    "    --username training\\\n",
    "    --password training\\\n",
    "    --table accidents\\\n",
    "    --target-dir /user/hdfs/accidents\\\n",
    "    --fields-terminated-by ',' \\\n",
    "    --lines-terminated-by '\\n' \\\n",
    "    --null-string 'null' \\\n",
    "    -m 1 "
   ]
  },
  {
   "cell_type": "markdown",
   "metadata": {},
   "source": [
    "# Import Casualties table from MYSQL to HDFS  using Sqoop\n",
    "Using Sqoop to import the Casualties table from Mysql and specifying the drictory to be imported into which is the user/hdfs"
   ]
  },
  {
   "cell_type": "code",
   "execution_count": 8,
   "metadata": {
    "scrolled": false
   },
   "outputs": [
    {
     "name": "stdout",
     "output_type": "stream",
     "text": [
      "19/05/10 06:51:25 INFO sqoop.Sqoop: Running Sqoop version: 1.4.5-cdh5.4.3\n",
      "19/05/10 06:51:25 WARN tool.BaseSqoopTool: Setting your password on the command-line is insecure. Consider using -P instead.\n",
      "19/05/10 06:51:25 INFO manager.MySQLManager: Preparing to use a MySQL streaming resultset.\n",
      "19/05/10 06:51:25 INFO tool.CodeGenTool: Beginning code generation\n",
      "19/05/10 06:51:25 INFO manager.SqlManager: Executing SQL statement: SELECT t.* FROM `casualties` AS t LIMIT 1\n",
      "19/05/10 06:51:25 INFO manager.SqlManager: Executing SQL statement: SELECT t.* FROM `casualties` AS t LIMIT 1\n",
      "19/05/10 06:51:25 INFO orm.CompilationManager: HADOOP_MAPRED_HOME is /usr/lib/hadoop-mapreduce\n",
      "Note: /tmp/sqoop-training/compile/b5072c4640ef08d0dc64ac4e39971369/casualties.java uses or overrides a deprecated API.\n",
      "Note: Recompile with -Xlint:deprecation for details.\n",
      "19/05/10 06:51:27 INFO orm.CompilationManager: Writing jar file: /tmp/sqoop-training/compile/b5072c4640ef08d0dc64ac4e39971369/casualties.jar\n",
      "19/05/10 06:51:27 WARN manager.MySQLManager: It looks like you are importing from mysql.\n",
      "19/05/10 06:51:27 WARN manager.MySQLManager: This transfer can be faster! Use the --direct\n",
      "19/05/10 06:51:27 WARN manager.MySQLManager: option to exercise a MySQL-specific fast path.\n",
      "19/05/10 06:51:27 INFO manager.MySQLManager: Setting zero DATETIME behavior to convertToNull (mysql)\n",
      "19/05/10 06:51:27 INFO mapreduce.ImportJobBase: Beginning import of casualties\n",
      "19/05/10 06:51:27 INFO Configuration.deprecation: mapred.job.tracker is deprecated. Instead, use mapreduce.jobtracker.address\n",
      "19/05/10 06:51:27 INFO Configuration.deprecation: mapred.jar is deprecated. Instead, use mapreduce.job.jar\n",
      "19/05/10 06:51:27 INFO Configuration.deprecation: mapred.map.tasks is deprecated. Instead, use mapreduce.job.maps\n",
      "19/05/10 06:51:27 INFO client.RMProxy: Connecting to ResourceManager at /0.0.0.0:8032\n",
      "19/05/10 06:51:29 INFO db.DBInputFormat: Using read commited transaction isolation\n",
      "19/05/10 06:51:29 INFO mapreduce.JobSubmitter: number of splits:1\n",
      "19/05/10 06:51:29 INFO mapreduce.JobSubmitter: Submitting tokens for job: job_1557495977674_0002\n",
      "19/05/10 06:51:29 INFO impl.YarnClientImpl: Submitted application application_1557495977674_0002\n",
      "19/05/10 06:51:29 INFO mapreduce.Job: The url to track the job: http://localhost:8088/proxy/application_1557495977674_0002/\n",
      "19/05/10 06:51:29 INFO mapreduce.Job: Running job: job_1557495977674_0002\n",
      "19/05/10 06:51:35 INFO mapreduce.Job: Job job_1557495977674_0002 running in uber mode : false\n",
      "19/05/10 06:51:35 INFO mapreduce.Job:  map 0% reduce 0%\n",
      "19/05/10 06:51:40 INFO mapreduce.Job:  map 100% reduce 0%\n",
      "19/05/10 06:51:40 INFO mapreduce.Job: Job job_1557495977674_0002 completed successfully\n",
      "19/05/10 06:51:40 INFO mapreduce.Job: Counters: 30\n",
      "\tFile System Counters\n",
      "\t\tFILE: Number of bytes read=0\n",
      "\t\tFILE: Number of bytes written=136215\n",
      "\t\tFILE: Number of read operations=0\n",
      "\t\tFILE: Number of large read operations=0\n",
      "\t\tFILE: Number of write operations=0\n",
      "\t\tHDFS: Number of bytes read=87\n",
      "\t\tHDFS: Number of bytes written=9366777\n",
      "\t\tHDFS: Number of read operations=4\n",
      "\t\tHDFS: Number of large read operations=0\n",
      "\t\tHDFS: Number of write operations=2\n",
      "\tJob Counters \n",
      "\t\tLaunched map tasks=1\n",
      "\t\tOther local map tasks=1\n",
      "\t\tTotal time spent by all maps in occupied slots (ms)=0\n",
      "\t\tTotal time spent by all reduces in occupied slots (ms)=0\n",
      "\t\tTotal time spent by all map tasks (ms)=2957\n",
      "\t\tTotal vcore-seconds taken by all map tasks=2957\n",
      "\t\tTotal megabyte-seconds taken by all map tasks=756992\n",
      "\tMap-Reduce Framework\n",
      "\t\tMap input records=170993\n",
      "\t\tMap output records=170993\n",
      "\t\tInput split bytes=87\n",
      "\t\tSpilled Records=0\n",
      "\t\tFailed Shuffles=0\n",
      "\t\tMerged Map outputs=0\n",
      "\t\tGC time elapsed (ms)=130\n",
      "\t\tCPU time spent (ms)=2500\n",
      "\t\tPhysical memory (bytes) snapshot=178163712\n",
      "\t\tVirtual memory (bytes) snapshot=886648832\n",
      "\t\tTotal committed heap usage (bytes)=170393600\n",
      "\tFile Input Format Counters \n",
      "\t\tBytes Read=0\n",
      "\tFile Output Format Counters \n",
      "\t\tBytes Written=9366777\n",
      "19/05/10 06:51:40 INFO mapreduce.ImportJobBase: Transferred 8.9329 MB in 13.0991 seconds (698.3105 KB/sec)\n",
      "19/05/10 06:51:40 INFO mapreduce.ImportJobBase: Retrieved 170993 records.\n"
     ]
    }
   ],
   "source": [
    "!sqoop-import \\\n",
    "    --connect jdbc:mysql://localhost/ihayfordbdtt\\\n",
    "    --username training\\\n",
    "    --password training\\\n",
    "    --table casualties\\\n",
    "    --target-dir /user/hdfs/casualties\\\n",
    "    --fields-terminated-by ',' \\\n",
    "    --lines-terminated-by '\\n' \\\n",
    "    --null-string 'null' \\\n",
    "    -m 1 "
   ]
  },
  {
   "cell_type": "markdown",
   "metadata": {},
   "source": [
    "## Create ihayford_hive database in Hive\n",
    "Creating new database called ihayford_hive in Hive using hive query"
   ]
  },
  {
   "cell_type": "code",
   "execution_count": 9,
   "metadata": {
    "scrolled": true
   },
   "outputs": [
    {
     "name": "stdout",
     "output_type": "stream",
     "text": [
      "\n",
      "Logging initialized using configuration in file:/etc/hive/conf.dist/hive-log4j.properties\n",
      "OK\n",
      "Time taken: 1.952 seconds\n"
     ]
    }
   ],
   "source": [
    "!hive -e \"CREATE DATABASE ihayford_hive;\""
   ]
  },
  {
   "cell_type": "markdown",
   "metadata": {},
   "source": [
    "## Creating accidents_hive table in ihayford_hive database using Hive\n",
    "Creating new empty table called accidents_hive within ihayford_hive database in Hive using hive query"
   ]
  },
  {
   "cell_type": "code",
   "execution_count": 10,
   "metadata": {
    "scrolled": true
   },
   "outputs": [
    {
     "name": "stderr",
     "output_type": "stream",
     "text": [
      "\n",
      "Logging initialized using configuration in file:/etc/hive/conf.dist/hive-log4j.properties\n",
      "OK\n",
      "Time taken: 0.444 seconds\n",
      "OK\n",
      "Time taken: 0.327 seconds\n"
     ]
    }
   ],
   "source": [
    "%%bash\n",
    "hive -e \"USE ihayford_hive; CREATE TABLE accidents_hive\n",
    "(\n",
    "  Accident_Index    STRING,\n",
    "  Location_Easting_OSGR    INT,\n",
    "  Location_Northing_OSGR   INT,\n",
    "  Longitude\t   DOUBLE,\n",
    "  Latitude\t   DOUBLE,\n",
    "  Police_Force\t  STRING,\n",
    "  Accident_Severity   STRING,\n",
    "  Number_of_Vehicles  INT,\n",
    "  Number_of_Casualties  INT,\n",
    "  Date STRING,\n",
    "  Day_of_Week\tSTRING,\n",
    "  Time  \t  STRING,\n",
    "  Local_Authority_District  STRING,\n",
    "  Local_Authority_Highway  STRING,\n",
    "  1st_Road_Class\t INT,\n",
    "  1st_Road_Number\t INT,\n",
    "  Road_Type\t  STRING,\n",
    "  Speed_limit\t  INT,\n",
    "  Junction_Detail\tINT,\n",
    "  Junction_Control\tINT,\n",
    "  2nd_Road_Class\tINT,\n",
    "  2nd_Road_Number\tINT,\n",
    "  Pedestrian_Crossing_Human_Control\t INT,\n",
    "  Pedestrian_Crossing_Physical_Facilities   INT,\n",
    "  Light_Conditions\tINT,\n",
    "  Weather_Conditions\tINT,\n",
    "  Road_Surface_Conditions\tINT,\n",
    "  Special_Conditions_at_Site\tINT,\n",
    "  Carriageway_Hazards\tINT,\n",
    "  Urban_or_Rural_Area\tINT,\n",
    "  Did_Police_Officer_Attend_Scene_of_Accident\tINT,\n",
    "  LSOA_of_Accident_Location   STRING\n",
    ")\n",
    "ROW FORMAT DELIMITED \n",
    "FIELDS TERMINATED BY ','\n",
    "LINES TERMINATED BY '\\n'         \n",
    "TBLPROPERTIES('skip.header.line.count'='1');\""
   ]
  },
  {
   "cell_type": "markdown",
   "metadata": {},
   "source": [
    "## Load accidents data from HDFS into accidents_hive table  using Hive\n",
    "Using the \\\"load data inpath\\\" statement to load accidents data from HDFS into accidents_hive table  using Hive"
   ]
  },
  {
   "cell_type": "code",
   "execution_count": 11,
   "metadata": {
    "scrolled": true
   },
   "outputs": [
    {
     "name": "stderr",
     "output_type": "stream",
     "text": [
      "\n",
      "Logging initialized using configuration in file:/etc/hive/conf.dist/hive-log4j.properties\n",
      "Loading data to table ihayford_hive.accidents_hive\n",
      "chgrp: changing ownership of 'hdfs://localhost:8020/user/hive/warehouse/ihayford_hive.db/accidents_hive/part-m-00000': User does not belong to hive\n",
      "Table ihayford_hive.accidents_hive stats: [numFiles=1, totalSize=23323094]\n",
      "OK\n",
      "Time taken: 0.952 seconds\n"
     ]
    }
   ],
   "source": [
    "%%bash\n",
    "hive -e \"LOAD DATA INPATH '/user/hdfs/accidents/part-m-00000' INTO TABLE ihayford_hive.accidents_hive;\""
   ]
  },
  {
   "cell_type": "markdown",
   "metadata": {},
   "source": [
    "# Creating casualties_hive table in ihayford_hive database using Hive\n",
    "Creating new empty table called casualties_hive table within ihayford_hive database in Hive using hive query"
   ]
  },
  {
   "cell_type": "code",
   "execution_count": 12,
   "metadata": {
    "scrolled": true
   },
   "outputs": [
    {
     "name": "stderr",
     "output_type": "stream",
     "text": [
      "\n",
      "Logging initialized using configuration in file:/etc/hive/conf.dist/hive-log4j.properties\n",
      "OK\n",
      "Time taken: 0.419 seconds\n",
      "OK\n",
      "Time taken: 0.198 seconds\n"
     ]
    }
   ],
   "source": [
    "%%bash\n",
    "hive -e \"USE ihayford_hive; CREATE TABLE casualties_hive\n",
    "(\n",
    "  Accident_Index\tSTRING,\n",
    "  Vehicle_Reference   INT,\n",
    "  Casualty_Reference\tINT,\n",
    "  Casualty_Class\tINT,\n",
    "  Sex_of_Casualty\tINT,\n",
    "  Age_of_Casualty\tINT,\n",
    "  Age_Band_of_Casualty\tSTRING,\n",
    "  Casualty_Severity\t  STRING,\n",
    "  Pedestrian_Location\tINT,\n",
    "  Pedestrian_Movement \tINT,\n",
    "  Car_Passenger\t  INT,\n",
    "  Bus_or_Coach_Passenger   INT,\t\n",
    "  Pedestrian_Road_Maintenance_Worker\tINT,\n",
    "  Casualty_Type\t  INT,\n",
    "  Casualty_Home_Area_Type\tINT,\n",
    "  Casualty_IMD_Decile   INT\n",
    ")  \n",
    "\n",
    "ROW FORMAT DELIMITED \n",
    "FIELDS TERMINATED BY ','\n",
    "LINES TERMINATED BY '\\n'         \n",
    "TBLPROPERTIES('skip.header.line.count'='1');\""
   ]
  },
  {
   "cell_type": "markdown",
   "metadata": {},
   "source": [
    "# Load casualties data from HDFS into casualties_hive table using Hive\n",
    "Using the \\\"load data inpath\\\" statement to load casualties data from HDFS into casualties_hive table using Hive"
   ]
  },
  {
   "cell_type": "code",
   "execution_count": 13,
   "metadata": {
    "scrolled": true
   },
   "outputs": [
    {
     "name": "stderr",
     "output_type": "stream",
     "text": [
      "\n",
      "Logging initialized using configuration in file:/etc/hive/conf.dist/hive-log4j.properties\n",
      "Loading data to table ihayford_hive.casualties_hive\n",
      "chgrp: changing ownership of 'hdfs://localhost:8020/user/hive/warehouse/ihayford_hive.db/casualties_hive/part-m-00000': User does not belong to hive\n",
      "Table ihayford_hive.casualties_hive stats: [numFiles=1, totalSize=9366777]\n",
      "OK\n",
      "Time taken: 0.884 seconds\n"
     ]
    }
   ],
   "source": [
    "%%bash\n",
    "hive -e \"LOAD DATA INPATH '/user/hdfs/casualties/part-m-00000' INTO TABLE ihayford_hive.casualties_hive;\""
   ]
  },
  {
   "cell_type": "markdown",
   "metadata": {
    "collapsed": true
   },
   "source": [
    "# Creating vehicles_hive table in ihayford_hive database using Hive\n",
    "Creating new empty table called vehicles_hive table within ihayford_hive database in Hive using hive query"
   ]
  },
  {
   "cell_type": "code",
   "execution_count": 14,
   "metadata": {
    "scrolled": true
   },
   "outputs": [
    {
     "name": "stderr",
     "output_type": "stream",
     "text": [
      "\n",
      "Logging initialized using configuration in file:/etc/hive/conf.dist/hive-log4j.properties\n",
      "OK\n",
      "Time taken: 0.372 seconds\n",
      "OK\n",
      "Time taken: 0.186 seconds\n"
     ]
    }
   ],
   "source": [
    "%%bash\n",
    "hive -e \"USE ihayford_hive; CREATE TABLE vehicles_hive\n",
    "(\n",
    "  Accident_Index\tSTRING,\n",
    "  Vehicle_Reference\t INT,\n",
    "  Vehicle_Type\tSTRING,\n",
    "  Towing_and_Articulation\tINT,\n",
    "  Vehicle_Manoeuvre\t INT,\n",
    "  Vehicle_Location_Restricted_Lane\tINT,\n",
    "  Junction_Location\t INT,\n",
    "  Skidding_and_Overturning\t INT,\n",
    "  Hit_Object_in_Carriageway\t INT,\n",
    "  Vehicle_Leaving_Carriageway\tINT,\n",
    "  Hit_Object_off_Carriageway\tINT,\n",
    "  1st_Point_of_Impact\tINT,\n",
    "  Was_Vehicle_Left_Hand_Drive \tINT,\n",
    "  Journey_Purpose_of_Driver\t  INT,\n",
    "  Sex_of_Driver\t INT,\n",
    "  Age_of_Driver\t INT,\n",
    "  Age_Band_of_Driver\tINT,\n",
    "  Engine_Capacity_CC   INT,\n",
    "  Propulsion_Code\tINT,\n",
    "  Age_of_Vehicle\tINT,\n",
    "  Driver_IMD_Decile\t  INT,\n",
    "  Driver_Home_Area_Type\t  INT,\n",
    "  Vehicle_IMD_Decile   INT\n",
    "  )\n",
    "  \n",
    "ROW FORMAT DELIMITED \n",
    "FIELDS TERMINATED BY ','\n",
    "LINES TERMINATED BY '\\n'         \n",
    "TBLPROPERTIES('skip.header.line.count'='1');\""
   ]
  },
  {
   "cell_type": "markdown",
   "metadata": {},
   "source": [
    "# Load vehicles data from HDFS into vehicles_hive table using Hive\n",
    "Using the \\\"load data inpath\\\" statement to load vehicles data from HDFS into vehicles_hive table using Hive"
   ]
  },
  {
   "cell_type": "code",
   "execution_count": 15,
   "metadata": {
    "scrolled": true
   },
   "outputs": [
    {
     "name": "stderr",
     "output_type": "stream",
     "text": [
      "\n",
      "Logging initialized using configuration in file:/etc/hive/conf.dist/hive-log4j.properties\n",
      "Loading data to table ihayford_hive.vehicles_hive\n",
      "chgrp: changing ownership of 'hdfs://localhost:8020/user/hive/warehouse/ihayford_hive.db/vehicles_hive/Veh1.csv': User does not belong to hive\n",
      "Table ihayford_hive.vehicles_hive stats: [numFiles=1, totalSize=17131013]\n",
      "OK\n",
      "Time taken: 0.875 seconds\n"
     ]
    }
   ],
   "source": [
    "%%bash\n",
    "hive -e \"LOAD DATA INPATH '/user/hdfs/vehicles/Veh1.csv' INTO TABLE ihayford_hive.vehicles_hive\""
   ]
  },
  {
   "cell_type": "markdown",
   "metadata": {},
   "source": [
    "###  View tables in ihayford_hive database using Impala\n",
    "Using Impala to view created database and tables"
   ]
  },
  {
   "cell_type": "code",
   "execution_count": 16,
   "metadata": {
    "scrolled": true
   },
   "outputs": [
    {
     "name": "stdout",
     "output_type": "stream",
     "text": [
      "Starting Impala Shell without Kerberos authentication\n",
      "Connected to localhost.localdomain:21000\n",
      "Server version: impalad version 2.2.0-cdh5.4.3 DEBUG (build 517bb0f71cd604a00369254ac6d88394df83e0f6)\n",
      "Query: invalidate metadata\n",
      "\n",
      "Fetched 0 row(s) in 2.11s\n",
      "Query: use ihayford_hive\n",
      "Query: show TABLES\n",
      "+-----------------+\n",
      "| name            |\n",
      "+-----------------+\n",
      "| accidents_hive  |\n",
      "| casualties_hive |\n",
      "| vehicles_hive   |\n",
      "+-----------------+\n",
      "Fetched 3 row(s) in 0.01s\n"
     ]
    }
   ],
   "source": [
    "!impala-shell -q \"invalidate metadata; USE ihayford_hive; SHOW TABLES;\""
   ]
  },
  {
   "cell_type": "markdown",
   "metadata": {},
   "source": [
    "### View the structure of the tables using Impala\n",
    "Using Impala to view the structure of all tables"
   ]
  },
  {
   "cell_type": "code",
   "execution_count": 17,
   "metadata": {
    "scrolled": true
   },
   "outputs": [
    {
     "name": "stdout",
     "output_type": "stream",
     "text": [
      "Starting Impala Shell without Kerberos authentication\n",
      "Connected to localhost.localdomain:21000\n",
      "Server version: impalad version 2.2.0-cdh5.4.3 DEBUG (build 517bb0f71cd604a00369254ac6d88394df83e0f6)\n",
      "Query: invalidate metadata\n",
      "\n",
      "Fetched 0 row(s) in 1.42s\n",
      "Query: describe ihayford_hive.accidents_hive\n",
      "+---------------------------------------------+--------+---------+\n",
      "| name                                        | type   | comment |\n",
      "+---------------------------------------------+--------+---------+\n",
      "| accident_index                              | string |         |\n",
      "| location_easting_osgr                       | int    |         |\n",
      "| location_northing_osgr                      | int    |         |\n",
      "| longitude                                   | double |         |\n",
      "| latitude                                    | double |         |\n",
      "| police_force                                | string |         |\n",
      "| accident_severity                           | string |         |\n",
      "| number_of_vehicles                          | int    |         |\n",
      "| number_of_casualties                        | int    |         |\n",
      "| date                                        | string |         |\n",
      "| day_of_week                                 | string |         |\n",
      "| time                                        | string |         |\n",
      "| local_authority_district                    | string |         |\n",
      "| local_authority_highway                     | string |         |\n",
      "| 1st_road_class                              | int    |         |\n",
      "| 1st_road_number                             | int    |         |\n",
      "| road_type                                   | string |         |\n",
      "| speed_limit                                 | int    |         |\n",
      "| junction_detail                             | int    |         |\n",
      "| junction_control                            | int    |         |\n",
      "| 2nd_road_class                              | int    |         |\n",
      "| 2nd_road_number                             | int    |         |\n",
      "| pedestrian_crossing_human_control           | int    |         |\n",
      "| pedestrian_crossing_physical_facilities     | int    |         |\n",
      "| light_conditions                            | int    |         |\n",
      "| weather_conditions                          | int    |         |\n",
      "| road_surface_conditions                     | int    |         |\n",
      "| special_conditions_at_site                  | int    |         |\n",
      "| carriageway_hazards                         | int    |         |\n",
      "| urban_or_rural_area                         | int    |         |\n",
      "| did_police_officer_attend_scene_of_accident | int    |         |\n",
      "| lsoa_of_accident_location                   | string |         |\n",
      "+---------------------------------------------+--------+---------+\n",
      "Fetched 32 row(s) in 2.08s\n",
      "Query: describe ihayford_hive.casualties_hive\n",
      "+------------------------------------+--------+---------+\n",
      "| name                               | type   | comment |\n",
      "+------------------------------------+--------+---------+\n",
      "| accident_index                     | string |         |\n",
      "| vehicle_reference                  | int    |         |\n",
      "| casualty_reference                 | int    |         |\n",
      "| casualty_class                     | int    |         |\n",
      "| sex_of_casualty                    | int    |         |\n",
      "| age_of_casualty                    | int    |         |\n",
      "| age_band_of_casualty               | string |         |\n",
      "| casualty_severity                  | string |         |\n",
      "| pedestrian_location                | int    |         |\n",
      "| pedestrian_movement                | int    |         |\n",
      "| car_passenger                      | int    |         |\n",
      "| bus_or_coach_passenger             | int    |         |\n",
      "| pedestrian_road_maintenance_worker | int    |         |\n",
      "| casualty_type                      | int    |         |\n",
      "| casualty_home_area_type            | int    |         |\n",
      "| casualty_imd_decile                | int    |         |\n",
      "+------------------------------------+--------+---------+\n",
      "Fetched 16 row(s) in 2.00s\n",
      "Query: describe ihayford_hive.vehicles_hive\n",
      "+----------------------------------+--------+---------+\n",
      "| name                             | type   | comment |\n",
      "+----------------------------------+--------+---------+\n",
      "| accident_index                   | string |         |\n",
      "| vehicle_reference                | int    |         |\n",
      "| vehicle_type                     | string |         |\n",
      "| towing_and_articulation          | int    |         |\n",
      "| vehicle_manoeuvre                | int    |         |\n",
      "| vehicle_location_restricted_lane | int    |         |\n",
      "| junction_location                | int    |         |\n",
      "| skidding_and_overturning         | int    |         |\n",
      "| hit_object_in_carriageway        | int    |         |\n",
      "| vehicle_leaving_carriageway      | int    |         |\n",
      "| hit_object_off_carriageway       | int    |         |\n",
      "| 1st_point_of_impact              | int    |         |\n",
      "| was_vehicle_left_hand_drive      | int    |         |\n",
      "| journey_purpose_of_driver        | int    |         |\n",
      "| sex_of_driver                    | int    |         |\n",
      "| age_of_driver                    | int    |         |\n",
      "| age_band_of_driver               | int    |         |\n",
      "| engine_capacity_cc               | int    |         |\n",
      "| propulsion_code                  | int    |         |\n",
      "| age_of_vehicle                   | int    |         |\n",
      "| driver_imd_decile                | int    |         |\n",
      "| driver_home_area_type            | int    |         |\n",
      "| vehicle_imd_decile               | int    |         |\n",
      "+----------------------------------+--------+---------+\n",
      "Fetched 23 row(s) in 2.00s\n"
     ]
    }
   ],
   "source": [
    "!impala-shell -q \"invalidate metadata; \\\n",
    "DESC ihayford_hive.accidents_hive; \\\n",
    "DESC ihayford_hive.casualties_hive; \\\n",
    "DESC ihayford_hive.vehicles_hive;\""
   ]
  },
  {
   "cell_type": "markdown",
   "metadata": {},
   "source": [
    "## Installing Pandas, Seaborn and Matplotlib packages\n",
    "Installing extra packages or libraries - Pandas, Seaborn and matplotlib to for visualisation"
   ]
  },
  {
   "cell_type": "code",
   "execution_count": 18,
   "metadata": {
    "scrolled": true
   },
   "outputs": [
    {
     "name": "stdout",
     "output_type": "stream",
     "text": [
      "/usr/local/lib/python2.7/site-packages/pip-7.1.2-py2.7.egg/pip/_vendor/requests/packages/urllib3/util/ssl_.py:90: InsecurePlatformWarning: A true SSLContext object is not available. This prevents urllib3 from configuring SSL appropriately and may cause certain SSL connections to fail. For more information, see https://urllib3.readthedocs.org/en/latest/security.html#insecureplatformwarning.\n",
      "  InsecurePlatformWarning\n",
      "/usr/local/lib/python2.7/site-packages/pip-7.1.2-py2.7.egg/pip/_vendor/requests/packages/urllib3/util/ssl_.py:90: InsecurePlatformWarning: A true SSLContext object is not available. This prevents urllib3 from configuring SSL appropriately and may cause certain SSL connections to fail. For more information, see https://urllib3.readthedocs.org/en/latest/security.html#insecureplatformwarning.\n",
      "  InsecurePlatformWarning\n",
      "Collecting pip\n",
      "/usr/local/lib/python2.7/site-packages/pip-7.1.2-py2.7.egg/pip/_vendor/requests/packages/urllib3/util/ssl_.py:90: InsecurePlatformWarning: A true SSLContext object is not available. This prevents urllib3 from configuring SSL appropriately and may cause certain SSL connections to fail. For more information, see https://urllib3.readthedocs.org/en/latest/security.html#insecureplatformwarning.\n",
      "  InsecurePlatformWarning\n",
      "  Downloading https://files.pythonhosted.org/packages/5c/e0/be401c003291b56efc55aeba6a80ab790d3d4cece2778288d65323009420/pip-19.1.1-py2.py3-none-any.whl (1.4MB)\n",
      "\u001b[K    100% |████████████████████████████████| 1.4MB 453kB/s \n",
      "\u001b[?25hInstalling collected packages: pip\n",
      "  Found existing installation: pip 7.1.2\n",
      "    Uninstalling pip-7.1.2:\n",
      "      Successfully uninstalled pip-7.1.2\n",
      "Successfully installed pip-19.1.1\n",
      "/usr/local/lib/python2.7/site-packages/pip-7.1.2-py2.7.egg/pip/_vendor/requests/packages/urllib3/util/ssl_.py:90: InsecurePlatformWarning: A true SSLContext object is not available. This prevents urllib3 from configuring SSL appropriately and may cause certain SSL connections to fail. For more information, see https://urllib3.readthedocs.org/en/latest/security.html#insecureplatformwarning.\n",
      "  InsecurePlatformWarning\n",
      "/usr/local/lib/python2.7/site-packages/pip-7.1.2-py2.7.egg/pip/_vendor/requests/packages/urllib3/util/ssl_.py:90: InsecurePlatformWarning: A true SSLContext object is not available. This prevents urllib3 from configuring SSL appropriately and may cause certain SSL connections to fail. For more information, see https://urllib3.readthedocs.org/en/latest/security.html#insecureplatformwarning.\n",
      "  InsecurePlatformWarning\n",
      "\u001b[33mDEPRECATION: Python 2.7 will reach the end of its life on January 1st, 2020. Please upgrade your Python as Python 2.7 won't be maintained after that date. A future version of pip will drop support for Python 2.7.\u001b[0m\n",
      "Collecting pandas\n",
      "/usr/local/lib/python2.7/site-packages/pip/_vendor/urllib3/util/ssl_.py:354: SNIMissingWarning: An HTTPS request has been made, but the SNI (Server Name Indication) extension to TLS is not available on this platform. This may cause the server to present an incorrect TLS certificate, which can cause validation failures. You can upgrade to a newer version of Python to solve this. For more information, see https://urllib3.readthedocs.io/en/latest/advanced-usage.html#ssl-warnings\n",
      "  SNIMissingWarning\n",
      "/usr/local/lib/python2.7/site-packages/pip/_vendor/urllib3/util/ssl_.py:150: InsecurePlatformWarning: A true SSLContext object is not available. This prevents urllib3 from configuring SSL appropriately and may cause certain SSL connections to fail. You can upgrade to a newer version of Python to solve this. For more information, see https://urllib3.readthedocs.io/en/latest/advanced-usage.html#ssl-warnings\n",
      "  InsecurePlatformWarning\n",
      "/usr/local/lib/python2.7/site-packages/pip/_vendor/urllib3/util/ssl_.py:150: InsecurePlatformWarning: A true SSLContext object is not available. This prevents urllib3 from configuring SSL appropriately and may cause certain SSL connections to fail. You can upgrade to a newer version of Python to solve this. For more information, see https://urllib3.readthedocs.io/en/latest/advanced-usage.html#ssl-warnings\n",
      "  InsecurePlatformWarning\n",
      "\u001b[?25l  Downloading https://files.pythonhosted.org/packages/db/83/7d4008ffc2988066ff37f6a0bb6d7b60822367dcb36ba5e39aa7801fda54/pandas-0.24.2-cp27-cp27mu-manylinux1_x86_64.whl (10.1MB)\n",
      "\u001b[K     |████████████████████████████████| 10.1MB 8.4MB/s \n",
      "\u001b[?25hCollecting numpy>=1.12.0 (from pandas)\n",
      "\u001b[?25l  Downloading https://files.pythonhosted.org/packages/e1/72/179a78b565ecf01fe98dab6417581d30acac15c2d93c49f93169ebea99b1/numpy-1.16.3-cp27-cp27mu-manylinux1_x86_64.whl (17.0MB)\n",
      "\u001b[K     |████████████████████████████████| 17.0MB 8.7MB/s \n",
      "\u001b[?25hCollecting pytz>=2011k (from pandas)\n",
      "\u001b[?25l  Downloading https://files.pythonhosted.org/packages/3d/73/fe30c2daaaa0713420d0382b16fbb761409f532c56bdcc514bf7b6262bb6/pytz-2019.1-py2.py3-none-any.whl (510kB)\n",
      "\u001b[K     |████████████████████████████████| 512kB 12.6MB/s \n",
      "\u001b[?25hCollecting python-dateutil>=2.5.0 (from pandas)\n",
      "\u001b[?25l  Downloading https://files.pythonhosted.org/packages/41/17/c62faccbfbd163c7f57f3844689e3a78bae1f403648a6afb1d0866d87fbb/python_dateutil-2.8.0-py2.py3-none-any.whl (226kB)\n",
      "\u001b[K     |████████████████████████████████| 235kB 12.2MB/s \n",
      "\u001b[?25hCollecting six>=1.5 (from python-dateutil>=2.5.0->pandas)\n",
      "  Downloading https://files.pythonhosted.org/packages/73/fb/00a976f728d0d1fecfe898238ce23f502a721c0ac0ecfedb80e0d88c64e9/six-1.12.0-py2.py3-none-any.whl\n",
      "Installing collected packages: numpy, pytz, six, python-dateutil, pandas\n",
      "Successfully installed numpy-1.16.3 pandas-0.24.2 python-dateutil-2.8.0 pytz-2019.1 six-1.12.0\n",
      "\u001b[33mDEPRECATION: Python 2.7 will reach the end of its life on January 1st, 2020. Please upgrade your Python as Python 2.7 won't be maintained after that date. A future version of pip will drop support for Python 2.7.\u001b[0m\n",
      "Collecting seaborn\n",
      "/usr/local/lib/python2.7/site-packages/pip/_vendor/urllib3/util/ssl_.py:354: SNIMissingWarning: An HTTPS request has been made, but the SNI (Server Name Indication) extension to TLS is not available on this platform. This may cause the server to present an incorrect TLS certificate, which can cause validation failures. You can upgrade to a newer version of Python to solve this. For more information, see https://urllib3.readthedocs.io/en/latest/advanced-usage.html#ssl-warnings\n",
      "  SNIMissingWarning\n",
      "/usr/local/lib/python2.7/site-packages/pip/_vendor/urllib3/util/ssl_.py:150: InsecurePlatformWarning: A true SSLContext object is not available. This prevents urllib3 from configuring SSL appropriately and may cause certain SSL connections to fail. You can upgrade to a newer version of Python to solve this. For more information, see https://urllib3.readthedocs.io/en/latest/advanced-usage.html#ssl-warnings\n",
      "  InsecurePlatformWarning\n",
      "/usr/local/lib/python2.7/site-packages/pip/_vendor/urllib3/util/ssl_.py:150: InsecurePlatformWarning: A true SSLContext object is not available. This prevents urllib3 from configuring SSL appropriately and may cause certain SSL connections to fail. You can upgrade to a newer version of Python to solve this. For more information, see https://urllib3.readthedocs.io/en/latest/advanced-usage.html#ssl-warnings\n",
      "  InsecurePlatformWarning\n",
      "\u001b[?25l  Downloading https://files.pythonhosted.org/packages/7a/bf/04cfcfc9616cedd4b5dd24dfc40395965ea9f50c1db0d3f3e52b050f74a5/seaborn-0.9.0.tar.gz (198kB)\n",
      "\u001b[K     |████████████████████████████████| 204kB 4.3MB/s \n",
      "\u001b[?25hRequirement already satisfied: numpy>=1.9.3 in /usr/local/lib/python2.7/site-packages (from seaborn) (1.16.3)\n",
      "Collecting scipy>=0.14.0 (from seaborn)\n",
      "\u001b[?25l  Downloading https://files.pythonhosted.org/packages/81/39/f1457091d0a45a84a2bd7815e2cf6bd45d4fe240728e9ed567cbb17c8abe/scipy-1.2.1-cp27-cp27mu-manylinux1_x86_64.whl (24.8MB)\n",
      "\u001b[K     |████████████████████████████████| 24.8MB 7.1MB/s \n",
      "\u001b[?25hRequirement already satisfied: pandas>=0.15.2 in /usr/local/lib/python2.7/site-packages (from seaborn) (0.24.2)\n",
      "Collecting matplotlib>=1.4.3 (from seaborn)\n",
      "\u001b[?25l  Downloading https://files.pythonhosted.org/packages/32/6b/0368cfa5e1d1ae169ab7dc78addda3fd5e6262e48d7373a9114bac7caff7/matplotlib-2.2.4-cp27-cp27mu-manylinux1_x86_64.whl (12.8MB)\n",
      "\u001b[K     |████████████████████████████████| 12.8MB 6.9MB/s \n",
      "\u001b[?25hRequirement already satisfied: pytz>=2011k in /usr/local/lib/python2.7/site-packages (from pandas>=0.15.2->seaborn) (2019.1)\n",
      "Requirement already satisfied: python-dateutil>=2.5.0 in /usr/local/lib/python2.7/site-packages (from pandas>=0.15.2->seaborn) (2.8.0)\n",
      "Collecting backports.functools-lru-cache (from matplotlib>=1.4.3->seaborn)\n",
      "  Downloading https://files.pythonhosted.org/packages/03/8e/2424c0e65c4a066e28f539364deee49b6451f8fcd4f718fefa50cc3dcf48/backports.functools_lru_cache-1.5-py2.py3-none-any.whl\n",
      "Requirement already satisfied: six>=1.10 in /usr/local/lib/python2.7/site-packages (from matplotlib>=1.4.3->seaborn) (1.12.0)\n",
      "Collecting cycler>=0.10 (from matplotlib>=1.4.3->seaborn)\n",
      "  Downloading https://files.pythonhosted.org/packages/f7/d2/e07d3ebb2bd7af696440ce7e754c59dd546ffe1bbe732c8ab68b9c834e61/cycler-0.10.0-py2.py3-none-any.whl\n",
      "Collecting subprocess32 (from matplotlib>=1.4.3->seaborn)\n",
      "\u001b[?25l  Downloading https://files.pythonhosted.org/packages/be/2b/beeba583e9877e64db10b52a96915afc0feabf7144dcbf2a0d0ea68bf73d/subprocess32-3.5.3.tar.gz (96kB)\n",
      "\u001b[K     |████████████████████████████████| 102kB 11.7MB/s \n",
      "\u001b[?25hCollecting kiwisolver>=1.0.1 (from matplotlib>=1.4.3->seaborn)\n",
      "\u001b[?25l  Downloading https://files.pythonhosted.org/packages/3d/78/cb9248b2289ec31e301137cedbe4ca503a74ca87f88cdbfd2f8be52323bf/kiwisolver-1.1.0-cp27-cp27mu-manylinux1_x86_64.whl (93kB)\n",
      "\u001b[K     |████████████████████████████████| 102kB 11.6MB/s \n",
      "\u001b[?25hCollecting pyparsing!=2.0.4,!=2.1.2,!=2.1.6,>=2.0.1 (from matplotlib>=1.4.3->seaborn)\n",
      "\u001b[?25l  Downloading https://files.pythonhosted.org/packages/dd/d9/3ec19e966301a6e25769976999bd7bbe552016f0d32b577dc9d63d2e0c49/pyparsing-2.4.0-py2.py3-none-any.whl (62kB)\n",
      "\u001b[K     |████████████████████████████████| 71kB 35.5MB/s \n",
      "\u001b[?25hRequirement already satisfied: setuptools in /usr/local/lib/python2.7/site-packages/setuptools-18.0.1-py2.7.egg (from kiwisolver>=1.0.1->matplotlib>=1.4.3->seaborn) (18.0.1)\n",
      "Installing collected packages: scipy, backports.functools-lru-cache, cycler, subprocess32, kiwisolver, pyparsing, matplotlib, seaborn\n",
      "  Running setup.py install for subprocess32 ... \u001b[?25l-\b \b\\\b \b|\b \b/\b \b-\b \b\\\b \b|\b \b/\b \bdone\n",
      "\u001b[?25h  Running setup.py install for seaborn ... \u001b[?25l-\b \b\\\b \bdone\n",
      "\u001b[?25hSuccessfully installed backports.functools-lru-cache-1.5 cycler-0.10.0 kiwisolver-1.1.0 matplotlib-2.2.4 pyparsing-2.4.0 scipy-1.2.1 seaborn-0.9.0 subprocess32-3.5.3\n",
      "\u001b[33mDEPRECATION: Python 2.7 will reach the end of its life on January 1st, 2020. Please upgrade your Python as Python 2.7 won't be maintained after that date. A future version of pip will drop support for Python 2.7.\u001b[0m\n",
      "Requirement already satisfied: matplotlib in /usr/local/lib/python2.7/site-packages (2.2.4)\n",
      "Requirement already satisfied: pytz in /usr/local/lib/python2.7/site-packages (from matplotlib) (2019.1)\n",
      "Requirement already satisfied: backports.functools-lru-cache in /usr/local/lib/python2.7/site-packages (from matplotlib) (1.5)\n",
      "Requirement already satisfied: six>=1.10 in /usr/local/lib/python2.7/site-packages (from matplotlib) (1.12.0)\n",
      "Requirement already satisfied: cycler>=0.10 in /usr/local/lib/python2.7/site-packages (from matplotlib) (0.10.0)\n",
      "Requirement already satisfied: subprocess32 in /usr/local/lib/python2.7/site-packages (from matplotlib) (3.5.3)\n",
      "Requirement already satisfied: kiwisolver>=1.0.1 in /usr/local/lib/python2.7/site-packages (from matplotlib) (1.1.0)\n",
      "Requirement already satisfied: python-dateutil>=2.1 in /usr/local/lib/python2.7/site-packages (from matplotlib) (2.8.0)\n",
      "Requirement already satisfied: pyparsing!=2.0.4,!=2.1.2,!=2.1.6,>=2.0.1 in /usr/local/lib/python2.7/site-packages (from matplotlib) (2.4.0)\n",
      "Requirement already satisfied: numpy>=1.7.1 in /usr/local/lib/python2.7/site-packages (from matplotlib) (1.16.3)\n",
      "Requirement already satisfied: setuptools in /usr/local/lib/python2.7/site-packages/setuptools-18.0.1-py2.7.egg (from kiwisolver>=1.0.1->matplotlib) (18.0.1)\n"
     ]
    }
   ],
   "source": [
    "!sudo pip install pip --upgrade\n",
    "!sudo pip install pandas \n",
    "!sudo pip install seaborn\n",
    "!sudo pip install matplotlib"
   ]
  },
  {
   "cell_type": "markdown",
   "metadata": {},
   "source": [
    "## Importing Pandas, Seaborn and Matplotlib \\n\",\n",
    "Packages/libraries has to be imported after the installation of the libraries"
   ]
  },
  {
   "cell_type": "code",
   "execution_count": null,
   "metadata": {},
   "outputs": [],
   "source": [
    "import numpy as np\n",
    "import pandas as pd\n",
    "import matplotlib.pyplot as plt\n",
    "import seaborn as sns\n",
    "%matplotlib inline"
   ]
  },
  {
   "cell_type": "code",
   "execution_count": 41,
   "metadata": {},
   "outputs": [
    {
     "name": "stdout",
     "output_type": "stream",
     "text": [
      "Starting Impala Shell without Kerberos authentication\n",
      "Connected to localhost.localdomain:21000\n",
      "Server version: impalad version 2.2.0-cdh5.4.3 DEBUG (build 517bb0f71cd604a00369254ac6d88394df83e0f6)\n",
      "Query: invalidate METADATA\n",
      "\n",
      "Fetched 0 row(s) in 1.32s\n"
     ]
    }
   ],
   "source": [
    "# To force impala to recognise databases in hive or metadatastore\n",
    "!impala-shell -q \"INVALIDATE METADATA\""
   ]
  },
  {
   "cell_type": "markdown",
   "metadata": {},
   "source": [
    "#Using Impala query statements for analysis, exporting the results as csv and using Pandas Dataframe to display the results and visualise with Seaborn\n",
    "Using Pandas to load the created csv file into data frame to display the results, using Seaborn to visualise the results from the data frame while matplotlib inline keeps the visualisation within the Jupyter notebook without opening a new window"
   ]
  },
  {
   "cell_type": "markdown",
   "metadata": {
    "collapsed": true
   },
   "source": [
    "# 1. Find the top 3 Police Force that have most the Fatal Accidents\n",
    "Using impala sql to statements to fetch the top 3 Police Force that have most the Fatal Accidents and exporting the results as a csv file\""
   ]
  },
  {
   "cell_type": "code",
   "execution_count": 21,
   "metadata": {
    "scrolled": true
   },
   "outputs": [
    {
     "name": "stderr",
     "output_type": "stream",
     "text": [
      "Starting Impala Shell without Kerberos authentication\n",
      "Connected to localhost.localdomain:21000\n",
      "Server version: impalad version 2.2.0-cdh5.4.3 DEBUG (build 517bb0f71cd604a00369254ac6d88394df83e0f6)\n",
      "Query: invalidate metadata\n",
      "Fetched 0 row(s) in 1.42s\n",
      "Query: use ihayford_hive\n",
      "Query: select police_force, COUNT(*) \n",
      "AS MOST_FATAL FROM accidents_hive \n",
      "WHERE accident_severity = 'Fatal' \n",
      "GROUP BY police_force \n",
      "ORDER BY MOST_FATAL \n",
      "DESC LIMIT 3\n",
      "Fetched 3 row(s) in 2.82s\n"
     ]
    }
   ],
   "source": [
    "%%sh\n",
    "impala-shell -B '--output_delimiter=,' -q \"invalidate metadata; USE ihayford_hive; SELECT police_force, COUNT(*) \n",
    "AS MOST_FATAL FROM accidents_hive \n",
    "WHERE accident_severity = 'Fatal' \n",
    "GROUP BY police_force \n",
    "ORDER BY MOST_FATAL \n",
    "DESC LIMIT 3;\" > que1.csv"
   ]
  },
  {
   "cell_type": "code",
   "execution_count": 22,
   "metadata": {},
   "outputs": [
    {
     "data": {
      "text/html": [
       "<div>\n",
       "<style scoped>\n",
       "    .dataframe tbody tr th:only-of-type {\n",
       "        vertical-align: middle;\n",
       "    }\n",
       "\n",
       "    .dataframe tbody tr th {\n",
       "        vertical-align: top;\n",
       "    }\n",
       "\n",
       "    .dataframe thead th {\n",
       "        text-align: right;\n",
       "    }\n",
       "</style>\n",
       "<table border=\"1\" class=\"dataframe\">\n",
       "  <thead>\n",
       "    <tr style=\"text-align: right;\">\n",
       "      <th></th>\n",
       "      <th>police_force</th>\n",
       "      <th>most_fatal</th>\n",
       "    </tr>\n",
       "  </thead>\n",
       "  <tbody>\n",
       "    <tr>\n",
       "      <th>0</th>\n",
       "      <td>Metropolitan Police</td>\n",
       "      <td>129</td>\n",
       "    </tr>\n",
       "    <tr>\n",
       "      <th>1</th>\n",
       "      <td>Thames Valley</td>\n",
       "      <td>59</td>\n",
       "    </tr>\n",
       "    <tr>\n",
       "      <th>2</th>\n",
       "      <td>Kent</td>\n",
       "      <td>56</td>\n",
       "    </tr>\n",
       "  </tbody>\n",
       "</table>\n",
       "</div>"
      ],
      "text/plain": [
       "          police_force  most_fatal\n",
       "0  Metropolitan Police         129\n",
       "1        Thames Valley          59\n",
       "2                 Kent          56"
      ]
     },
     "execution_count": 22,
     "metadata": {},
     "output_type": "execute_result"
    }
   ],
   "source": [
    "que1 = pd.read_csv (\"que1.csv\", names = ( \"police_force\",\"most_fatal\")) \n",
    "que1.head()"
   ]
  },
  {
   "cell_type": "code",
   "execution_count": 23,
   "metadata": {},
   "outputs": [
    {
     "data": {
      "text/plain": [
       "Text(0.5,1,'Police force most_fatal accidents')"
      ]
     },
     "execution_count": 23,
     "metadata": {},
     "output_type": "execute_result"
    },
    {
     "data": {
      "image/png": "[encoded data removed]",
      "text/plain": [
       "<Figure size 600x400 with 1 Axes>"
      ]
     },
     "metadata": {},
     "output_type": "display_data"
    }
   ],
   "source": [
    "sns.barplot \\\n",
    "(x=que1.police_force, y=que1.most_fatal) \\\n",
    ".set_title ('Police force most_fatal accidents')"
   ]
  },
  {
   "cell_type": "markdown",
   "metadata": {
    "collapsed": true
   },
   "source": [
    "# 2.\tFind the top 5 Local Authorities that have most Serious Accidents"
   ]
  },
  {
   "cell_type": "code",
   "execution_count": 24,
   "metadata": {
    "scrolled": true
   },
   "outputs": [
    {
     "name": "stderr",
     "output_type": "stream",
     "text": [
      "Starting Impala Shell without Kerberos authentication\n",
      "Connected to localhost.localdomain:21000\n",
      "Server version: impalad version 2.2.0-cdh5.4.3 DEBUG (build 517bb0f71cd604a00369254ac6d88394df83e0f6)\n",
      "Query: select local_authority_district, \n",
      "COUNT(*) \n",
      "AS Most_Serious_Accidents \n",
      "FROM ihayford_hive.accidents_hive \n",
      "WHERE accident_severity = 'Serious' \n",
      "GROUP BY local_authority_district \n",
      "ORDER BY Most_Serious_Accidents \n",
      "DESC LIMIT 5\n",
      "Fetched 5 row(s) in 0.54s\n"
     ]
    }
   ],
   "source": [
    "%%sh\n",
    "impala-shell -B '--output_delimiter=,' -q \"SELECT local_authority_district, \n",
    "COUNT(*) \n",
    "AS Most_Serious_Accidents \n",
    "FROM ihayford_hive.accidents_hive \n",
    "WHERE accident_severity = 'Serious' \n",
    "GROUP BY local_authority_district \n",
    "ORDER BY Most_Serious_Accidents \n",
    "DESC LIMIT 5;\" > que2.csv"
   ]
  },
  {
   "cell_type": "code",
   "execution_count": 25,
   "metadata": {},
   "outputs": [
    {
     "data": {
      "text/html": [
       "<div>\n",
       "<style scoped>\n",
       "    .dataframe tbody tr th:only-of-type {\n",
       "        vertical-align: middle;\n",
       "    }\n",
       "\n",
       "    .dataframe tbody tr th {\n",
       "        vertical-align: top;\n",
       "    }\n",
       "\n",
       "    .dataframe thead th {\n",
       "        text-align: right;\n",
       "    }\n",
       "</style>\n",
       "<table border=\"1\" class=\"dataframe\">\n",
       "  <thead>\n",
       "    <tr style=\"text-align: right;\">\n",
       "      <th></th>\n",
       "      <th>local_authority_district</th>\n",
       "      <th>most_serious_accidents</th>\n",
       "    </tr>\n",
       "  </thead>\n",
       "  <tbody>\n",
       "    <tr>\n",
       "      <th>0</th>\n",
       "      <td>Birmingham</td>\n",
       "      <td>375</td>\n",
       "    </tr>\n",
       "    <tr>\n",
       "      <th>1</th>\n",
       "      <td>Leeds</td>\n",
       "      <td>291</td>\n",
       "    </tr>\n",
       "    <tr>\n",
       "      <th>2</th>\n",
       "      <td>Sheffield</td>\n",
       "      <td>279</td>\n",
       "    </tr>\n",
       "    <tr>\n",
       "      <th>3</th>\n",
       "      <td>Westminster</td>\n",
       "      <td>259</td>\n",
       "    </tr>\n",
       "    <tr>\n",
       "      <th>4</th>\n",
       "      <td>Cornwall</td>\n",
       "      <td>224</td>\n",
       "    </tr>\n",
       "  </tbody>\n",
       "</table>\n",
       "</div>"
      ],
      "text/plain": [
       "  local_authority_district  most_serious_accidents\n",
       "0               Birmingham                     375\n",
       "1                    Leeds                     291\n",
       "2                Sheffield                     279\n",
       "3              Westminster                     259\n",
       "4                 Cornwall                     224"
      ]
     },
     "execution_count": 25,
     "metadata": {},
     "output_type": "execute_result"
    }
   ],
   "source": [
    "que2 = pd.read_csv (\"que2.csv\", names = ( \"local_authority_district\",\"most_serious_accidents\")) \n",
    "que2.head()"
   ]
  },
  {
   "cell_type": "code",
   "execution_count": 26,
   "metadata": {},
   "outputs": [
    {
     "data": {
      "text/plain": [
       "Text(0.5,1,'District most_serious_accidents')"
      ]
     },
     "execution_count": 26,
     "metadata": {},
     "output_type": "execute_result"
    },
    {
     "data": {
      "image/png": "[encoded data removed]",
      "text/plain": [
       "<Figure size 600x400 with 1 Axes>"
      ]
     },
     "metadata": {},
     "output_type": "display_data"
    }
   ],
   "source": [
    "sns.barplot \\\n",
    "(x=que2.local_authority_district, y=que2.most_serious_accidents) \\\n",
    ".set_title ('District most_serious_accidents')"
   ]
  },
  {
   "cell_type": "markdown",
   "metadata": {},
   "source": [
    "# 3. Find the Vehicle Type that have most Serious and Fatal Accidents."
   ]
  },
  {
   "cell_type": "code",
   "execution_count": 27,
   "metadata": {
    "scrolled": true
   },
   "outputs": [
    {
     "name": "stderr",
     "output_type": "stream",
     "text": [
      "Starting Impala Shell without Kerberos authentication\n",
      "Connected to localhost.localdomain:21000\n",
      "Server version: impalad version 2.2.0-cdh5.4.3 DEBUG (build 517bb0f71cd604a00369254ac6d88394df83e0f6)\n",
      "Query: select V.vehicle_type, \n",
      "COUNT(*) \n",
      "AS Most_Serious_and_Fatal\n",
      "FROM ihayford_hive.vehicles_hive V \n",
      "JOIN ihayford_hive.accidents_hive A \n",
      "ON (V.accident_index = A.accident_index) \n",
      "WHERE accident_severity = 'Fatal'\n",
      "OR accident_severity = 'Serious'\n",
      "GROUP BY V.vehicle_type \n",
      "ORDER BY Most_Serious_and_Fatal \n",
      "DESC\n",
      "Limit 3\n",
      "Fetched 3 row(s) in 2.26s\n"
     ]
    }
   ],
   "source": [
    "%%bash\n",
    "impala-shell -B '--output_delimiter=,' -q \"SELECT V.vehicle_type, \n",
    "COUNT(*) \n",
    "AS Most_Serious_and_Fatal\n",
    "FROM ihayford_hive.vehicles_hive V \n",
    "JOIN ihayford_hive.accidents_hive A \n",
    "ON (V.accident_index = A.accident_index) \n",
    "WHERE accident_severity = 'Fatal'\n",
    "OR accident_severity = 'Serious'\n",
    "GROUP BY V.vehicle_type \n",
    "ORDER BY Most_Serious_and_Fatal \n",
    "DESC\n",
    "Limit 3;\" > que3.csv"
   ]
  },
  {
   "cell_type": "code",
   "execution_count": 28,
   "metadata": {},
   "outputs": [
    {
     "data": {
      "text/html": [
       "<div>\n",
       "<style scoped>\n",
       "    .dataframe tbody tr th:only-of-type {\n",
       "        vertical-align: middle;\n",
       "    }\n",
       "\n",
       "    .dataframe tbody tr th {\n",
       "        vertical-align: top;\n",
       "    }\n",
       "\n",
       "    .dataframe thead th {\n",
       "        text-align: right;\n",
       "    }\n",
       "</style>\n",
       "<table border=\"1\" class=\"dataframe\">\n",
       "  <thead>\n",
       "    <tr style=\"text-align: right;\">\n",
       "      <th></th>\n",
       "      <th>vehicle_type</th>\n",
       "      <th>Most_Serious_and_Fatality</th>\n",
       "    </tr>\n",
       "  </thead>\n",
       "  <tbody>\n",
       "    <tr>\n",
       "      <th>0</th>\n",
       "      <td>Car</td>\n",
       "      <td>4450</td>\n",
       "    </tr>\n",
       "    <tr>\n",
       "      <th>1</th>\n",
       "      <td>Pedal cycle</td>\n",
       "      <td>647</td>\n",
       "    </tr>\n",
       "    <tr>\n",
       "      <th>2</th>\n",
       "      <td>Motorcycle over 500cc</td>\n",
       "      <td>462</td>\n",
       "    </tr>\n",
       "  </tbody>\n",
       "</table>\n",
       "</div>"
      ],
      "text/plain": [
       "            vehicle_type  Most_Serious_and_Fatality\n",
       "0                    Car                       4450\n",
       "1            Pedal cycle                        647\n",
       "2  Motorcycle over 500cc                        462"
      ]
     },
     "execution_count": 28,
     "metadata": {},
     "output_type": "execute_result"
    }
   ],
   "source": [
    "que3 = pd.read_csv (\"que3.csv\", names = ( \"vehicle_type\",\"Most_Serious_and_Fatality\")) \n",
    "que3.head()"
   ]
  },
  {
   "cell_type": "code",
   "execution_count": 29,
   "metadata": {},
   "outputs": [
    {
     "data": {
      "text/plain": [
       "Text(0.5,1,'Most serious and fatal of vehicle type')"
      ]
     },
     "execution_count": 29,
     "metadata": {},
     "output_type": "execute_result"
    },
    {
     "data": {
      "image/png": "[encoded data removed]",
      "text/plain": [
       "<Figure size 600x400 with 1 Axes>"
      ]
     },
     "metadata": {},
     "output_type": "display_data"
    }
   ],
   "source": [
    "sns.barplot \\\n",
    "(x=que3.vehicle_type, y=que3.Most_Serious_and_Fatality) \\\n",
    ".set_title ('Most serious and fatal of vehicle type')"
   ]
  },
  {
   "cell_type": "markdown",
   "metadata": {},
   "source": [
    "# 4. Find the Age Band of Casualty that have most Fatal Accidents."
   ]
  },
  {
   "cell_type": "code",
   "execution_count": 30,
   "metadata": {
    "scrolled": true
   },
   "outputs": [
    {
     "name": "stderr",
     "output_type": "stream",
     "text": [
      "Starting Impala Shell without Kerberos authentication\n",
      "Connected to localhost.localdomain:21000\n",
      "Server version: impalad version 2.2.0-cdh5.4.3 DEBUG (build 517bb0f71cd604a00369254ac6d88394df83e0f6)\n",
      "Query: select c_h.age_band_of_casualty, \n",
      "COUNT(*) \n",
      "AS Fatality\n",
      "FROM ihayford_hive.casualties_hive c_h \n",
      "JOIN ihayford_hive.accidents_hive a_h \n",
      "ON (c_h.accident_index = a_h.accident_index) \n",
      "WHERE accident_severity = 'Fatal' \n",
      "GROUP BY c_h.age_band_of_casualty \n",
      "ORDER BY Fatality DESC\n",
      "Limit 4\n",
      "Fetched 4 row(s) in 2.94s\n"
     ]
    }
   ],
   "source": [
    "%%bash\n",
    "impala-shell -B '--output_delimiter=,' -q \"SELECT c_h.age_band_of_casualty, \n",
    "COUNT(*) \n",
    "AS Fatality\n",
    "FROM ihayford_hive.casualties_hive c_h \n",
    "JOIN ihayford_hive.accidents_hive a_h \n",
    "ON (c_h.accident_index = a_h.accident_index) \n",
    "WHERE accident_severity = 'Fatal' \n",
    "GROUP BY c_h.age_band_of_casualty \n",
    "ORDER BY Fatality DESC\n",
    "Limit 4;\" > que4.csv"
   ]
  },
  {
   "cell_type": "code",
   "execution_count": 31,
   "metadata": {},
   "outputs": [
    {
     "data": {
      "text/html": [
       "<div>\n",
       "<style scoped>\n",
       "    .dataframe tbody tr th:only-of-type {\n",
       "        vertical-align: middle;\n",
       "    }\n",
       "\n",
       "    .dataframe tbody tr th {\n",
       "        vertical-align: top;\n",
       "    }\n",
       "\n",
       "    .dataframe thead th {\n",
       "        text-align: right;\n",
       "    }\n",
       "</style>\n",
       "<table border=\"1\" class=\"dataframe\">\n",
       "  <thead>\n",
       "    <tr style=\"text-align: right;\">\n",
       "      <th></th>\n",
       "      <th>age_band_of_casualty</th>\n",
       "      <th>Fatality</th>\n",
       "    </tr>\n",
       "  </thead>\n",
       "  <tbody>\n",
       "    <tr>\n",
       "      <th>0</th>\n",
       "      <td>26 - 35</td>\n",
       "      <td>504</td>\n",
       "    </tr>\n",
       "    <tr>\n",
       "      <th>1</th>\n",
       "      <td>46 - 55</td>\n",
       "      <td>373</td>\n",
       "    </tr>\n",
       "    <tr>\n",
       "      <th>2</th>\n",
       "      <td>36 - 45</td>\n",
       "      <td>343</td>\n",
       "    </tr>\n",
       "    <tr>\n",
       "      <th>3</th>\n",
       "      <td>11</td>\n",
       "      <td>329</td>\n",
       "    </tr>\n",
       "  </tbody>\n",
       "</table>\n",
       "</div>"
      ],
      "text/plain": [
       "  age_band_of_casualty  Fatality\n",
       "0              26 - 35       504\n",
       "1              46 - 55       373\n",
       "2              36 - 45       343\n",
       "3                   11       329"
      ]
     },
     "execution_count": 31,
     "metadata": {},
     "output_type": "execute_result"
    }
   ],
   "source": [
    "que4 = pd.read_csv (\"que4.csv\", names = ( \"age_band_of_casualty\",\"Fatality\")) \n",
    "que4.head()"
   ]
  },
  {
   "cell_type": "code",
   "execution_count": 32,
   "metadata": {},
   "outputs": [
    {
     "data": {
      "text/plain": [
       "Text(0.5,1,'Most age band fatality')"
      ]
     },
     "execution_count": 32,
     "metadata": {},
     "output_type": "execute_result"
    },
    {
     "data": {
      "image/png": "[encoded data removed]",
      "text/plain": [
       "<Figure size 600x400 with 1 Axes>"
      ]
     },
     "metadata": {},
     "output_type": "display_data"
    }
   ],
   "source": [
    "sns.barplot \\\n",
    "(x=que4.age_band_of_casualty, y=que4.Fatality) \\\n",
    ".set_title ('Most age band fatality')"
   ]
  },
  {
   "cell_type": "markdown",
   "metadata": {},
   "source": [
    "## 5.\tGroup and display the Slight Accidents by Day of Week in West Yorkshire Police Force Area."
   ]
  },
  {
   "cell_type": "code",
   "execution_count": 33,
   "metadata": {
    "scrolled": true
   },
   "outputs": [
    {
     "name": "stderr",
     "output_type": "stream",
     "text": [
      "Starting Impala Shell without Kerberos authentication\n",
      "Connected to localhost.localdomain:21000\n",
      "Server version: impalad version 2.2.0-cdh5.4.3 DEBUG (build 517bb0f71cd604a00369254ac6d88394df83e0f6)\n",
      "Query: select day_of_week, \n",
      "COUNT(*) \n",
      "AS Slight_Accidents_By_Day_In_Yorkshire_Police_force \n",
      "FROM ihayford_hive.accidents_hive \n",
      "WHERE accident_severity = 'Slight' \n",
      "AND police_force = 'West Yorkshire' \n",
      "GROUP BY day_of_week \n",
      "ORDER BY Slight_Accidents_By_Day_In_Yorkshire_Police_force\n",
      "Fetched 7 row(s) in 0.64s\n"
     ]
    }
   ],
   "source": [
    "%%bash\n",
    "impala-shell -B '--output_delimiter=,' -q \"SELECT day_of_week, \n",
    "COUNT(*) \n",
    "AS Slight_Accidents_By_Day_In_Yorkshire_Police_force \n",
    "FROM ihayford_hive.accidents_hive \n",
    "WHERE accident_severity = 'Slight' \n",
    "AND police_force = 'West Yorkshire' \n",
    "GROUP BY day_of_week \n",
    "ORDER BY Slight_Accidents_By_Day_In_Yorkshire_Police_force;\" > que5.csv"
   ]
  },
  {
   "cell_type": "code",
   "execution_count": 34,
   "metadata": {},
   "outputs": [
    {
     "data": {
      "text/html": [
       "<div>\n",
       "<style scoped>\n",
       "    .dataframe tbody tr th:only-of-type {\n",
       "        vertical-align: middle;\n",
       "    }\n",
       "\n",
       "    .dataframe tbody tr th {\n",
       "        vertical-align: top;\n",
       "    }\n",
       "\n",
       "    .dataframe thead th {\n",
       "        text-align: right;\n",
       "    }\n",
       "</style>\n",
       "<table border=\"1\" class=\"dataframe\">\n",
       "  <thead>\n",
       "    <tr style=\"text-align: right;\">\n",
       "      <th></th>\n",
       "      <th>day_of_week</th>\n",
       "      <th>Slight_Accidents_By_Day_In_Yorkshire_Police_force</th>\n",
       "    </tr>\n",
       "  </thead>\n",
       "  <tbody>\n",
       "    <tr>\n",
       "      <th>0</th>\n",
       "      <td>Sunday</td>\n",
       "      <td>379</td>\n",
       "    </tr>\n",
       "    <tr>\n",
       "      <th>1</th>\n",
       "      <td>Monday</td>\n",
       "      <td>501</td>\n",
       "    </tr>\n",
       "    <tr>\n",
       "      <th>2</th>\n",
       "      <td>Saturday</td>\n",
       "      <td>502</td>\n",
       "    </tr>\n",
       "    <tr>\n",
       "      <th>3</th>\n",
       "      <td>Tuesday</td>\n",
       "      <td>521</td>\n",
       "    </tr>\n",
       "    <tr>\n",
       "      <th>4</th>\n",
       "      <td>Thursday</td>\n",
       "      <td>530</td>\n",
       "    </tr>\n",
       "  </tbody>\n",
       "</table>\n",
       "</div>"
      ],
      "text/plain": [
       "  day_of_week  Slight_Accidents_By_Day_In_Yorkshire_Police_force\n",
       "0      Sunday                                                379\n",
       "1      Monday                                                501\n",
       "2    Saturday                                                502\n",
       "3     Tuesday                                                521\n",
       "4    Thursday                                                530"
      ]
     },
     "execution_count": 34,
     "metadata": {},
     "output_type": "execute_result"
    }
   ],
   "source": [
    "que5 = pd.read_csv (\"que5.csv\", names = ( \"day_of_week\",\"Slight_Accidents_By_Day_In_Yorkshire_Police_force\")) \n",
    "que5.head()"
   ]
  },
  {
   "cell_type": "code",
   "execution_count": 35,
   "metadata": {},
   "outputs": [
    {
     "data": {
      "text/plain": [
       "Text(0.5,1,'Yorkshire police force slight accidents')"
      ]
     },
     "execution_count": 35,
     "metadata": {},
     "output_type": "execute_result"
    },
    {
     "data": {
      "image/png": "[encoded data removed]",
      "text/plain": [
       "<Figure size 600x400 with 1 Axes>"
      ]
     },
     "metadata": {},
     "output_type": "display_data"
    }
   ],
   "source": [
    "sns.barplot \\\n",
    "(x=que5.day_of_week, y=que5.Slight_Accidents_By_Day_In_Yorkshire_Police_force) \\\n",
    ".set_title ('Yorkshire police force slight accidents')"
   ]
  },
  {
   "cell_type": "markdown",
   "metadata": {},
   "source": [
    "# 6. Find the peak hour that have most Fatal Accidents in Dual carriageway."
   ]
  },
  {
   "cell_type": "code",
   "execution_count": 36,
   "metadata": {},
   "outputs": [
    {
     "name": "stderr",
     "output_type": "stream",
     "text": [
      "Starting Impala Shell without Kerberos authentication\n",
      "Connected to localhost.localdomain:21000\n",
      "Server version: impalad version 2.2.0-cdh5.4.3 DEBUG (build 517bb0f71cd604a00369254ac6d88394df83e0f6)\n",
      "Query: select STRLEFT(time, 2),\n",
      "COUNT(*) \n",
      "AS Fatal_Accident_in_Dual_Carriageway  \n",
      "FROM ihayford_hive.accidents_hive \n",
      "WHERE accident_severity = 'Fatal' \n",
      "AND road_type = 'Dual carriageway'\n",
      "GROUP BY STRLEFT(time, 2)\n",
      "ORDER BY Fatal_Accident_in_Dual_Carriageway\n",
      "DESC \n",
      "LIMIT 3\n",
      "Fetched 3 row(s) in 0.52s\n"
     ]
    }
   ],
   "source": [
    "%%bash\n",
    "impala-shell -B '--output_delimiter=,' -q \"SELECT STRLEFT(time, 2),\n",
    "COUNT(*) \n",
    "AS Fatal_Accident_in_Dual_Carriageway  \n",
    "FROM ihayford_hive.accidents_hive \n",
    "WHERE accident_severity = 'Fatal' \n",
    "AND road_type = 'Dual carriageway'\n",
    "GROUP BY STRLEFT(time, 2)\n",
    "ORDER BY Fatal_Accident_in_Dual_Carriageway\n",
    "DESC \n",
    "LIMIT 3;\" > que6.csv"
   ]
  },
  {
   "cell_type": "code",
   "execution_count": 37,
   "metadata": {},
   "outputs": [
    {
     "data": {
      "text/html": [
       "<div>\n",
       "<style scoped>\n",
       "    .dataframe tbody tr th:only-of-type {\n",
       "        vertical-align: middle;\n",
       "    }\n",
       "\n",
       "    .dataframe tbody tr th {\n",
       "        vertical-align: top;\n",
       "    }\n",
       "\n",
       "    .dataframe thead th {\n",
       "        text-align: right;\n",
       "    }\n",
       "</style>\n",
       "<table border=\"1\" class=\"dataframe\">\n",
       "  <thead>\n",
       "    <tr style=\"text-align: right;\">\n",
       "      <th></th>\n",
       "      <th>time</th>\n",
       "      <th>fatal_accident_in_dual_carriageway</th>\n",
       "    </tr>\n",
       "  </thead>\n",
       "  <tbody>\n",
       "    <tr>\n",
       "      <th>0</th>\n",
       "      <td>19</td>\n",
       "      <td>23</td>\n",
       "    </tr>\n",
       "    <tr>\n",
       "      <th>1</th>\n",
       "      <td>17</td>\n",
       "      <td>23</td>\n",
       "    </tr>\n",
       "    <tr>\n",
       "      <th>2</th>\n",
       "      <td>14</td>\n",
       "      <td>22</td>\n",
       "    </tr>\n",
       "  </tbody>\n",
       "</table>\n",
       "</div>"
      ],
      "text/plain": [
       "   time  fatal_accident_in_dual_carriageway\n",
       "0    19                                  23\n",
       "1    17                                  23\n",
       "2    14                                  22"
      ]
     },
     "execution_count": 37,
     "metadata": {},
     "output_type": "execute_result"
    }
   ],
   "source": [
    "que6 = pd.read_csv (\"que6.csv\", names = ( \"time\",\"fatal_accident_in_dual_carriageway\")) \n",
    "que6.head()"
   ]
  },
  {
   "cell_type": "code",
   "execution_count": 38,
   "metadata": {},
   "outputs": [
    {
     "data": {
      "text/plain": [
       "Text(0.5,1,'dual carriageway fatality')"
      ]
     },
     "execution_count": 38,
     "metadata": {},
     "output_type": "execute_result"
    },
    {
     "data": {
      "image/png": "[encoded data removed]",
      "text/plain": [
       "<Figure size 600x400 with 1 Axes>"
      ]
     },
     "metadata": {},
     "output_type": "display_data"
    }
   ],
   "source": [
    "sns.barplot \\\n",
    "(x=que6.time, y=que6.fatal_accident_in_dual_carriageway) \\\n",
    ".set_title ('dual carriageway fatality')"
   ]
  },
  {
   "cell_type": "markdown",
   "metadata": {},
   "source": [
    "# 7. Find the area(Local_Authority) that have most Fatal Motorcycle Accidents "
   ]
  },
  {
   "cell_type": "code",
   "execution_count": 40,
   "metadata": {},
   "outputs": [
    {
     "name": "stderr",
     "output_type": "stream",
     "text": [
      "Starting Impala Shell without Kerberos authentication\n",
      "Connected to localhost.localdomain:21000\n",
      "Server version: impalad version 2.2.0-cdh5.4.3 DEBUG (build 517bb0f71cd604a00369254ac6d88394df83e0f6)\n",
      "Query: invalidate metadata\n",
      "Fetched 0 row(s) in 1.91s\n",
      "Query: select ac.local_authority_district, \n",
      "COUNT(*) \n",
      "AS fatal_moto_accidents \n",
      "FROM ihayford_hive.accidents_hive ac \n",
      "INNER JOIN ihayford_hive.vehicles_hive ve \n",
      "ON ac.accident_index = ve.accident_index \n",
      "WHERE ac.accident_severity = 'Fatal' \n",
      "AND ve.vehicle_type \n",
      "IN ('Motorcycle 50cc and under rider or passenger','Motorcycle 125cc and under rider or passenger','Motorcycle over 125cc and up to 500cc rider or  passenger','Motorcycle over 500cc rider or passenger','Electric motorcycle rider or passenger','Motorcycle - unknown cc rider or passenger') \n",
      "GROUP BY ac.local_authority_district \n",
      "ORDER BY fatal_moto_accidents DESC\n",
      "Limit 3\n",
      "Fetched 0 row(s) in 4.83s\n"
     ]
    }
   ],
   "source": [
    "%%bash\n",
    "impala-shell -B '--output_delimiter=,' -q \"invalidate metadata; SELECT ac.local_authority_district, \n",
    "COUNT(*) \n",
    "AS fatal_moto_accidents \n",
    "FROM ihayford_hive.accidents_hive ac \n",
    "INNER JOIN ihayford_hive.vehicles_hive ve \n",
    "ON ac.accident_index = ve.accident_index \n",
    "WHERE ac.accident_severity = 'Fatal' \n",
    "AND ve.vehicle_type \n",
    "IN ('Motorcycle 50cc and under rider or passenger','Motorcycle 125cc and under rider or passenger',\\\n",
    "'Motorcycle over 125cc and up to 500cc rider or  passenger','Motorcycle over 500cc rider or passenger','Electric motorcycle rider or passenger',\\\n",
    "'Motorcycle - unknown cc rider or passenger') \n",
    "GROUP BY ac.local_authority_district \n",
    "ORDER BY fatal_moto_accidents DESC\n",
    "Limit 3;\" > que7.csv\n",
    " "
   ]
  },
  {
   "cell_type": "code",
   "execution_count": 1,
   "metadata": {},
   "outputs": [
    {
     "ename": "NameError",
     "evalue": "name 'pd' is not defined",
     "output_type": "error",
     "traceback": [
      "\u001b[1;31m---------------------------------------------------------------------------\u001b[0m",
      "\u001b[1;31mNameError\u001b[0m                                 Traceback (most recent call last)",
      "\u001b[1;32m<ipython-input-1-3630085e5a74>\u001b[0m in \u001b[0;36m<module>\u001b[1;34m\u001b[0m\n\u001b[1;32m----> 1\u001b[1;33m \u001b[0mque7\u001b[0m \u001b[1;33m=\u001b[0m \u001b[0mpd\u001b[0m\u001b[1;33m.\u001b[0m\u001b[0mread_csv\u001b[0m \u001b[1;33m(\u001b[0m\u001b[1;34m\"que7.csv\"\u001b[0m\u001b[1;33m,\u001b[0m \u001b[0mnames\u001b[0m \u001b[1;33m=\u001b[0m \u001b[1;33m(\u001b[0m \u001b[1;34m\"local_authority_district\"\u001b[0m\u001b[1;33m,\u001b[0m\u001b[1;34m\"fatal_moto_accidents\"\u001b[0m\u001b[1;33m)\u001b[0m\u001b[1;33m)\u001b[0m\u001b[1;33m\u001b[0m\u001b[1;33m\u001b[0m\u001b[0m\n\u001b[0m\u001b[0;32m      2\u001b[0m \u001b[0mque7\u001b[0m\u001b[1;33m.\u001b[0m\u001b[0mhead\u001b[0m\u001b[1;33m(\u001b[0m\u001b[1;33m)\u001b[0m\u001b[1;33m\u001b[0m\u001b[1;33m\u001b[0m\u001b[0m\n",
      "\u001b[1;31mNameError\u001b[0m: name 'pd' is not defined"
     ]
    }
   ],
   "source": [
    "que7 = pd.read_csv (\"que7.csv\", names = ( \"local_authority_district\",\"fatal_moto_accidents\")) \n",
    "que7.head()"
   ]
  },
  {
   "cell_type": "code",
   "execution_count": null,
   "metadata": {},
   "outputs": [],
   "source": []
  },
  {
   "cell_type": "markdown",
   "metadata": {
    "collapsed": true
   },
   "source": [
    "#Conclusion\n",
    "Since data comes in the form of voluminous unstructured and semi-structured data, the best way to gain valuable information is to be able to use and apply different tools, software and techniques.  These techniques have been applied to carried out the task. The use of SQL to import data, using Sqoop to import data from MYSQL to HDFS, able to use Hive to create database and tables and imported the HDFS data files with “LOAD DATA INPATH”.\n",
    "Impala SQL analysis appeared to be faster than that of Hive while both uses appeared to be using the same Metastore.\n",
    "Combining Packages or libraries like Pandas and Seaborn allowed to visualisation to implemented in Jupyter notebook. Another visualisation was implemented in Databricks using Spark query language from the imported csv files.\n"
   ]
  },
  {
   "cell_type": "markdown",
   "metadata": {},
   "source": [
    "#References\n",
    "Introduction to Big Data. (2019). www.ntnu.no. [online] Available at: https://www.ntnu.no/iie/fag/big/lessons/lesson2.pdf [Accessed 3 Jan. 2019]. \n",
    "\n",
    "Overview. (2019). CogniFit. [online] Available at: https://impala.apache.org/overview.html [Accessed 8 May. 2019]. \n",
    "\n",
    "Apache Sqoop. (2019). sqoop.apache.org. [online] Available at: https://sqoop.apache.org/ [Accessed 3 May. 2019].\n",
    "\n",
    "Apache Spark. (2019). spark.apache.org. [online] Available at: https://spark.apache.org [Accessed 2 May. 2019]. \n",
    "\n",
    "Apache Hadoop. (2019). hadoop.apache.org. [online] Available at: https://hadoop.apache.org [Accessed 4 May. 2019]. \n",
    "\n",
    "BIG DATA ANALYTICS. (2019). progressive.in. [online] Available at: https://progressive.in/big-data-analytics [Accessed 3 May. 2019]. \n",
    "\n"
   ]
  },
  {
   "cell_type": "code",
   "execution_count": null,
   "metadata": {
    "collapsed": true
   },
   "outputs": [],
   "source": []
  }
 ],
 "metadata": {
  "kernelspec": {
   "display_name": "Python 3",
   "language": "python",
   "name": "python3"
  },
  "language_info": {
   "codemirror_mode": {
    "name": "ipython",
    "version": 3
   },
   "file_extension": ".py",
   "mimetype": "text/x-python",
   "name": "python",
   "nbconvert_exporter": "python",
   "pygments_lexer": "ipython3",
   "version": "3.7.3"
  }
 },
 "nbformat": 4,
 "nbformat_minor": 1
}
